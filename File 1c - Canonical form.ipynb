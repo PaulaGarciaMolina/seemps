{
 "cells": [
  {
   "cell_type": "code",
   "execution_count": 1,
   "metadata": {},
   "outputs": [],
   "source": [
    "%load_ext autoreload"
   ]
  },
  {
   "cell_type": "markdown",
   "metadata": {},
   "source": [
    "# Canonical form"
   ]
  },
  {
   "cell_type": "code",
   "execution_count": 2,
   "metadata": {},
   "outputs": [],
   "source": [
    "import numpy as np\n",
    "from mps.state import *"
   ]
  },
  {
   "cell_type": "markdown",
   "metadata": {},
   "source": [
    "## Environment "
   ]
  },
  {
   "cell_type": "markdown",
   "metadata": {},
   "source": [
    "A matrix product state form facilitates a decomposition of a complex quantum state in terms of a given site and a left and right environment, formed by the rest of the quantum subsystems."
   ]
  },
  {
   "cell_type": "markdown",
   "metadata": {},
   "source": [
    "<img src=\"figures/environment.svg\" style=\"max-width:90%; width: 22em\">"
   ]
  },
  {
   "cell_type": "markdown",
   "metadata": {},
   "source": [
    "Mathematically, we are performing a Schmidt-type decomposition of the state\n",
    "$$|\\psi\\rangle = \\sum_{\\alpha,i_3,\\beta} C^{i_3}_{\\alpha\\beta}|L^\\alpha\\rangle|i_3\\rangle|R^\\beta\\rangle$$\n",
    "with some states $|L^\\alpha\\rangle$ and $|R^\\beta\\rangle$ that define a many-body basis for the left and right environments of our central subsystem."
   ]
  },
  {
   "cell_type": "markdown",
   "metadata": {},
   "source": [
    "## Canonical form"
   ]
  },
  {
   "cell_type": "markdown",
   "metadata": {},
   "source": [
    "We claim that the MPS is in *canonical form* with respect to the site $i$ when its left and right tensors define orthonormal basis for their many-body states. In other words, when\n",
    "$$\\langle L^\\alpha | L^{\\alpha'}\\rangle = \\delta_{\\alpha,\\alpha'}$$\n",
    "$$\\langle R^\\beta | R^{\\beta'}\\rangle = \\delta_{\\beta,\\beta'}$$\n"
   ]
  },
  {
   "cell_type": "markdown",
   "metadata": {},
   "source": [
    "We can achieve a canonical form by imposing that the tensors to the left and to the right of our subsystem be isometries. In our particular example\n",
    "$$\\sum_i A^{i}_{1,\\alpha} A^{i *}_{1,\\alpha'} = \\delta_{\\alpha,\\alpha'}$$\n",
    "$$\\sum_{i,\\alpha} B^{i}_{\\alpha,\\beta} B^{i *}_{\\alpha,\\beta'} = \\delta_{\\beta,\\beta'}$$\n",
    "$$\\sum_{i,\\beta} D^{i}_{\\alpha,\\beta} D^{i *}_{\\alpha',\\beta} = \\delta_{\\alpha,\\alpha'}$$\n",
    "$$\\sum_i E^{i}_{\\alpha,1}E^{i *}_{\\alpha',1} = \\delta_{\\alpha,\\alpha'}$$"
   ]
  },
  {
   "cell_type": "markdown",
   "metadata": {},
   "source": [
    "Or graphically, we can summarize these equations as follows\n",
    "\n",
    "<img src=\"figures/canonical-conditions.svg\" style=\"max-width:95%; width:60em\">"
   ]
  },
  {
   "cell_type": "markdown",
   "metadata": {},
   "source": [
    "## Advantages"
   ]
  },
  {
   "cell_type": "markdown",
   "metadata": {},
   "source": [
    "There are various places where a canonical form becomes very useful. One is when we want to take expectation values of observables. Suppose we wish to compute the average of an observable acting on the third site above\n",
    "$$\\bar{O} = \\langle \\psi |1 \\otimes 1 \\otimes O \\otimes 1 \\otimes 1 |\\psi\\rangle.$$\n",
    "If the state is in canonical form, the expectation value can be obtained as a contraction over the local tensors\n",
    "$$\\bar{O} = \\sum_{ij\\alpha\\beta} O_{ij} C^{j*}_{\\alpha\\beta} C^{i}_{\\alpha\\beta}$$\n",
    "\n",
    "Once more, there is a graphical way to express this relation:\n",
    "\n",
    "<img src=\"figures/local-expectation-value.svg\" style=\"width: 8em\">"
   ]
  },
  {
   "cell_type": "markdown",
   "metadata": {},
   "source": [
    "The locality of this relation is particularly useful when optimizing expectation values: we can tune the affected tensors independently, until the optimal condition is reached."
   ]
  },
  {
   "cell_type": "markdown",
   "metadata": {},
   "source": [
    "## Canonicalizing a tensor"
   ]
  },
  {
   "cell_type": "markdown",
   "metadata": {},
   "source": [
    "From the images above we guess that there are different canonical conditions depending on whether we come from the left or the right of a given site. If we come from the left, we can start with a tensor that does not satisfy a canonical form and construct a new one that does.\n",
    "\n",
    "<img src=\"figures/canonical-split-right.svg\" style=\"max-width: 90%; width: 35em\">"
   ]
  },
  {
   "cell_type": "markdown",
   "metadata": {},
   "source": [
    "Take for instance the tensor $B^{i}_{\\alpha\\beta},$ which does not satisfy a canonical form. What we do is to reinterpret $B$ as a matrix $C_{x,\\beta}$, where the index $x=[\\alpha,i_2]$ is born out of joining two legs of the tensor. This matrix admits a singular value decomposition (SVD)\n",
    "$$C_{x\\beta} = \\sum_\\gamma U_{x,\\gamma} s_\\gamma V_{\\gamma,\\beta}$$\n",
    "with two unitary matrices $U, V$ and a diagonal matrix of non-negative values $s_\\gamma.$\n",
    "\n",
    "We define the tensor\n",
    "$$\\bar{B}^{i_2}_{\\alpha\\gamma} := U_{x,\\gamma}$$\n",
    "as our new tensor for the second site. The remaining transformations $s V$ are shifted to the next site and, in this particular case, used to update the $C$ tensor to a new tensor\n",
    "$$\\bar{C}_{\\gamma\\delta}^{i_3} = s_\\gamma V_{\\gamma\\sigma} C_{\\sigma\\delta}^{i_3}.$$"
   ]
  },
  {
   "cell_type": "markdown",
   "metadata": {},
   "source": [
    "We can implement this idea as a generic algorithm that updates an MPS, assuming that it is in canonical form up to site $i\\pm1$ and moving to site $i$. The algorithm takes the MPS, a generic tensor, the site to update and the direction along which we are moving."
   ]
  },
  {
   "cell_type": "markdown",
   "metadata": {},
   "source": [
    "The first part of the algorithm is the splitting of the tensors. We create two functions for this task, `ortho_right()` and `ortho_left()` depending on the direction."
   ]
  },
  {
   "cell_type": "code",
   "execution_count": 3,
   "metadata": {},
   "outputs": [],
   "source": [
    "# file: mps/state.py\n",
    "\n",
    "\n",
    "def _ortho_right(A, tol):\n",
    "    α, i, β = A.shape\n",
    "    U, s, V = np.linalg.svd(np.reshape(A, (α*i, β)), full_matrices=False)\n",
    "    s = _truncate_vector(s, tol)\n",
    "    D = s.size\n",
    "    return np.reshape(U, (α, i, D)), np.reshape(s, (D, 1)) * V[:D, :]\n",
    "\n",
    "\n",
    "def _ortho_left(A, tol):\n",
    "    α, i, β = A.shape\n",
    "    U, s, V = np.linalg.svd(np.reshape(A, (α, i*β)), full_matrices=False)\n",
    "    s = _truncate_vector(s, tol)\n",
    "    D = s.size\n",
    "    return np.reshape(V, (D, i, β)), U[:, :D] * np.reshape(s, (1, D))"
   ]
  },
  {
   "cell_type": "markdown",
   "metadata": {},
   "source": [
    "With the functions above we can now construct the actual update of the MPS at a given site."
   ]
  },
  {
   "cell_type": "code",
   "execution_count": 4,
   "metadata": {},
   "outputs": [],
   "source": [
    "# file: mps/state.py\n",
    "\n",
    "\n",
    "def _update_in_canonical_form(Ψ, A, site, direction, tol=0):\n",
    "    \"\"\"Insert a tensor in canonical form into the MPS Ψ at the given site.\n",
    "    Update the neighboring sites in the process.\"\"\"\n",
    "\n",
    "    if direction > 0:\n",
    "        if site+1 == Ψ.size:\n",
    "            Ψ[site] = A\n",
    "        else:\n",
    "            Ψ[site], sV = _ortho_right(A, tol)\n",
    "            site += 1\n",
    "            Ψ[site] = np.einsum('ab,bic->aic', sV, Ψ[site])\n",
    "    else:\n",
    "        if site == 0:\n",
    "            Ψ[site] = A\n",
    "        else:\n",
    "            Ψ[site], Us = _ortho_left(A, tol)\n",
    "            site -= 1\n",
    "            Ψ[site] = np.einsum('aib,bc->aic', Ψ[site], Us)\n",
    "    return site"
   ]
  },
  {
   "cell_type": "markdown",
   "metadata": {},
   "source": [
    "This algorithm can be used iteratively to make an MPS into canonical form with respect to a given site, even if it was not previously so."
   ]
  },
  {
   "cell_type": "code",
   "execution_count": 5,
   "metadata": {},
   "outputs": [],
   "source": [
    "# file: mps/state.py\n",
    "\n",
    "def _canonicalize(Ψ, center):\n",
    "    for i in range(0, center):\n",
    "        _update_in_canonical_form(Ψ, Ψ[i], i, +1)\n",
    "    for i in range(Ψ.size-1, center, -1):\n",
    "        _update_in_canonical_form(Ψ, Ψ[i], i, -1)"
   ]
  },
  {
   "cell_type": "markdown",
   "metadata": {},
   "source": [
    "Implicit in the canonicalization is a routine that truncates the singular values up to a tolerance, ensuring that the MPS we regenerate is not too large. We can use the norm-2 criterion for that. The idea is that the sum of the squares of the singular values is the norm of the full state\n",
    "$$\\|\\psi\\|^2 = \\sum_n s_n^2 =: N$$\n",
    "If we drop all values from $n_{cut}$ on, we make a norm-2 relative error\n",
    "$$\\varepsilon = \\frac{1}{N} \\sum_{n=n_0} s_n^2$$\n",
    "We can study the relative error and use it to control our tolerance."
   ]
  },
  {
   "cell_type": "code",
   "execution_count": 6,
   "metadata": {},
   "outputs": [],
   "source": [
    "# file: mps/state.py\n",
    "\n",
    "\n",
    "def _truncate_vector(S, tolerance):\n",
    "    #\n",
    "    # Input:\n",
    "    # - S: a vector containing singular values in descending order\n",
    "    # - tolerance: truncation relative tolerance, which specifies an\n",
    "    #   upper bound for the sum of the squares of the singular values\n",
    "    #   eliminated. 0 <= tolerance <= 1\n",
    "    #\n",
    "    # Output:\n",
    "    # - truncS: truncated version of S\n",
    "    #\n",
    "    if tolerance == 0:\n",
    "        #log('--no truncation')\n",
    "        return S\n",
    "    # We sum all reduced density matrix eigenvalues, starting from\n",
    "    # the smallest ones, to avoid rounding errors\n",
    "    err = np.cumsum(np.flip(S, axis=0)**2)\n",
    "    #\n",
    "    # This is the sum of all values\n",
    "    total = err[-1]\n",
    "    #\n",
    "    # we find the number of values we can drop within the relative\n",
    "    # tolerance\n",
    "    ndx = np.argmax(err >= tolerance*total)\n",
    "    # and use that to estimate the size of the array\n",
    "    # log('--S='+str(S))\n",
    "    #log('--truncated to '+str(ndx))\n",
    "    return S[0:(S.size - ndx)]"
   ]
  },
  {
   "cell_type": "markdown",
   "metadata": {},
   "source": [
    "## Canonical form MPS"
   ]
  },
  {
   "cell_type": "markdown",
   "metadata": {},
   "source": [
    "We can use this idea to implement an MPS class that is in canonical form with respect to one site. This site may change as we update the MPS, but it is always kept track of."
   ]
  },
  {
   "cell_type": "code",
   "execution_count": 7,
   "metadata": {},
   "outputs": [],
   "source": [
    "# file: mps/state.py\n",
    "\n",
    "\n",
    "class CanonicalMPS(MPS):\n",
    "    \"\"\"Canonical MPS class.\n",
    "\n",
    "    This implements a Matrix Product State object with open boundary\n",
    "    conditions, that is always on canonical form with respect to a given site.\n",
    "    The tensors have three indices, A[α,i,β], where 'α,β' are the internal\n",
    "    labels and 'i' is the physical state of the given site.\n",
    "\n",
    "    Attributes:\n",
    "    size = number of tensors in the array\n",
    "    center = site that defines the canonical form of the MPS\n",
    "    \"\"\"\n",
    "\n",
    "    #\n",
    "    # This class contains all the matrices and vectors that form\n",
    "    # a Matrix-Product State.\n",
    "    #\n",
    "    def __init__(self, data, center=0):\n",
    "        super(MPS, self).__init__(data)\n",
    "        _canonicalize(self, center)\n",
    "        self.center = center\n",
    "\n",
    "    def norm2(self):\n",
    "        \"\"\"Return the square of the norm-2 of this state, ‖ψ‖**2 = <ψ|ψ>.\"\"\"\n",
    "        A = self._data[self.center]\n",
    "        return np.vdot(A, A)\n",
    "\n",
    "    def expectationAtCenter(self, operator):\n",
    "        \"\"\"Return the expectation value of 'operator' acting on the central\n",
    "        site of the MPS.\"\"\"\n",
    "        A = self._data[self.center]\n",
    "        return np.vdot(A, np.einsum('ij,ajb->aib', operator, A))/np.vdot(A,A)\n",
    "\n",
    "    def update_canonical(self, A, direction):\n",
    "        self.center = _update_in_canonical_form(self, A, self.center,\n",
    "                                                direction)"
   ]
  },
  {
   "cell_type": "markdown",
   "metadata": {},
   "source": [
    "----"
   ]
  },
  {
   "cell_type": "markdown",
   "metadata": {},
   "source": [
    "\n",
    "# Tests"
   ]
  },
  {
   "cell_type": "markdown",
   "metadata": {},
   "source": [
    "To properly test the canonical forms we have to verify that the tensors are close to isometries. The following function is a helper for that."
   ]
  },
  {
   "cell_type": "code",
   "execution_count": 8,
   "metadata": {},
   "outputs": [],
   "source": [
    "# file: mps/test/test_canonical.py\n",
    "import unittest\n",
    "import mps.state\n",
    "from mps.tools import similar\n",
    "\n",
    "\n",
    "def approximateIsometry(A, direction, places=7):\n",
    "    if direction > 0:\n",
    "        a, i, b = A.shape\n",
    "        A = np.reshape(A, (a*i, b))\n",
    "        C = A.T.conj() @ A\n",
    "    else:\n",
    "        b, i, a = A.shape\n",
    "        A = np.reshape(A, (b, i*a))\n",
    "        C = A @ A.T.conj()\n",
    "    return np.all(np.isclose(C, np.eye(b), atol=10**(-places)))"
   ]
  },
  {
   "cell_type": "code",
   "execution_count": 9,
   "metadata": {},
   "outputs": [],
   "source": [
    "# file: mps/test/test_canonical.py\n",
    "\n",
    "\n",
    "class TestCanonicalForm(unittest.TestCase):\n",
    "\n",
    "    def test_local_update_canonical(self):\n",
    "        #\n",
    "        # We verify that _update_in_canonical_form() leaves a tensor that\n",
    "        # is an approximate isometry.\n",
    "        #\n",
    "        for nqubits in range(2, 10):\n",
    "            for _ in range(20):\n",
    "                Ψ = mps.state.random(2, nqubits, 10)\n",
    "\n",
    "                for i in range(Ψ.size-1):\n",
    "                    ξ = Ψ.copy()\n",
    "                    _update_in_canonical_form(ξ, ξ[i], i, +1)\n",
    "                    self.assertTrue(approximateIsometry(ξ[i], +1))\n",
    "\n",
    "                for i in range(1, Ψ.size):\n",
    "                    ξ = Ψ.copy()\n",
    "                    _update_in_canonical_form(ξ, ξ[i], i, -1)\n",
    "                    self.assertTrue(approximateIsometry(ξ[i], -1))\n",
    "\n",
    "    def test_canonicalize(self):\n",
    "        #\n",
    "        # We verify _canonicalize() transforms an MPS into an equivalent one\n",
    "        # that is in canonical form and represents the same state, up to\n",
    "        # a reasonable tolerance.\n",
    "        #\n",
    "        for nqubits in range(2, 10):\n",
    "            for _ in range(20):\n",
    "                Ψ = mps.state.random(2, nqubits, 10)\n",
    "\n",
    "                for center in range(Ψ.size):\n",
    "                    ξ = Ψ.copy()\n",
    "                    _canonicalize(ξ, center)\n",
    "                    #\n",
    "                    # All sites to the left and to the right are isometries\n",
    "                    #\n",
    "                    for i in range(center):\n",
    "                        self.assertTrue(approximateIsometry(ξ[i], +1))\n",
    "                    for i in range(center+1, ξ.size):\n",
    "                        self.assertTrue(approximateIsometry(ξ[i], -1))\n",
    "                    #\n",
    "                    # Both states produce the same wavefunction\n",
    "                    #\n",
    "                    self.assertTrue(similar(ξ.tovector(), Ψ.tovector()))\n",
    "\n",
    "    def test_canonical_mps(self):\n",
    "        #\n",
    "        # We verify _canonicalize() transforms an MPS into an equivalent one\n",
    "        # that is in canonical form and represents the same state, up to\n",
    "        # a reasonable tolerance.\n",
    "        #\n",
    "        for nqubits in range(2, 8):\n",
    "            for _ in range(20):\n",
    "                Ψ = mps.state.random(2, nqubits, 10)\n",
    "\n",
    "                for center in range(Ψ.size):\n",
    "                    ξ = CanonicalMPS(Ψ, center=center)\n",
    "                    #\n",
    "                    # All sites to the left and to the right are isometries\n",
    "                    #\n",
    "                    for i in range(center):\n",
    "                        self.assertTrue(approximateIsometry(ξ[i], +1))\n",
    "                    for i in range(center+1, ξ.size):\n",
    "                        self.assertTrue(approximateIsometry(ξ[i], -1))\n",
    "                    #\n",
    "                    # Both states produce the same wavefunction\n",
    "                    #\n",
    "                    self.assertTrue(similar(ξ.tovector(), Ψ.tovector()))\n",
    "                    #\n",
    "                    # The norm is correct\n",
    "                    #\n",
    "                    self.assertAlmostEqual(ξ.norm2(), Ψ.norm2())\n",
    "                    #\n",
    "                    # Local observables give the same\n",
    "                    #\n",
    "                    O = np.array([[0, 0],[0, 1]])\n",
    "                    \n",
    "                    self.assertAlmostEqual(ξ.expectationAtCenter(O),\n",
    "                                           Ψ.expectation1(O, center))"
   ]
  },
  {
   "cell_type": "code",
   "execution_count": 10,
   "metadata": {
    "scrolled": true
   },
   "outputs": [
    {
     "name": "stderr",
     "output_type": "stream",
     "text": [
      "test_canonical_mps (__main__.TestCanonicalForm) ... ok\n",
      "test_canonicalize (__main__.TestCanonicalForm) ... ok\n",
      "test_local_update_canonical (__main__.TestCanonicalForm) ... ok\n",
      "\n",
      "----------------------------------------------------------------------\n",
      "Ran 3 tests in 1.920s\n",
      "\n",
      "OK\n"
     ]
    }
   ],
   "source": [
    "%autoreload\n",
    "suite1 = unittest.TestLoader().loadTestsFromNames(['__main__.TestCanonicalForm'])\n",
    "unittest.TextTestRunner(verbosity=2).run(suite1);"
   ]
  }
 ],
 "metadata": {
  "kernelspec": {
   "display_name": "Python 3",
   "language": "python",
   "name": "python3"
  },
  "language_info": {
   "codemirror_mode": {
    "name": "ipython",
    "version": 3
   },
   "file_extension": ".py",
   "mimetype": "text/x-python",
   "name": "python",
   "nbconvert_exporter": "python",
   "pygments_lexer": "ipython3",
   "version": "3.6.6"
  }
 },
 "nbformat": 4,
 "nbformat_minor": 2
}
