{
 "cells": [
  {
   "cell_type": "code",
   "execution_count": null,
   "metadata": {},
   "outputs": [],
   "source": [
    "# file: mps/evolution.py\n",
    "\n",
    "class TEBD_steps(object):\n",
    "    def __init__(self, H, ψ, dt, timesteps, order=1, tol=0):\n",
    "        self.H = H\n",
    "        self.ψ = ψ\n",
    "        self.dt = dt\n",
    "        self.timesteps = timesteps\n",
    "        self.order = order\n",
    "    def one_step(self):\n",
    "        \n",
    "        \n",
    "        \n",
    "        "
   ]
  },
  {
   "cell_type": "code",
   "execution_count": null,
   "metadata": {},
   "outputs": [],
   "source": [
    "N = 6\n",
    "t = 1\n",
    "ω = 0.5\n",
    "dt = 1\n",
    "timesteps = 10\n",
    "ψ = mps.state.random(2, N, 5)\n",
    "H = make_ti_Hamiltonian(N, [t * annihilation_op(2) , t * creation_op(2)], \n",
    "                    [creation_op(2), annihilation_op(2)], \n",
    "                      local_term=ω*creation_op(2)@ annihilation_op(2))\n",
    "A = TEBD_steps(H, ψ, dt, timesteps, tol=0)\n",
    "A.H"
   ]
  }
 ],
 "metadata": {
  "kernelspec": {
   "display_name": "Python 3",
   "language": "python",
   "name": "python3"
  },
  "language_info": {
   "codemirror_mode": {
    "name": "ipython",
    "version": 3
   },
   "file_extension": ".py",
   "mimetype": "text/x-python",
   "name": "python",
   "nbconvert_exporter": "python",
   "pygments_lexer": "ipython3"
  }
 },
 "nbformat": 4,
 "nbformat_minor": 2
}
