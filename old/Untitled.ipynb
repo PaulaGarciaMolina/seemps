{
 "cells": [
  {
   "cell_type": "code",
   "execution_count": 1,
   "metadata": {},
   "outputs": [
    {
     "ename": "SyntaxError",
     "evalue": "unexpected EOF while parsing (<ipython-input-1-c6b231c4e66f>, line 14)",
     "output_type": "error",
     "traceback": [
      "\u001b[0;36m  File \u001b[0;32m\"<ipython-input-1-c6b231c4e66f>\"\u001b[0;36m, line \u001b[0;32m14\u001b[0m\n\u001b[0;31m    \u001b[0m\n\u001b[0m    ^\u001b[0m\n\u001b[0;31mSyntaxError\u001b[0m\u001b[0;31m:\u001b[0m unexpected EOF while parsing\n"
     ]
    }
   ],
   "source": [
    "# file: mps/evolution.py\n",
    "\n",
    "class TEBD_steps(object):\n",
    "    def __init__(self, H, ψ, dt, timesteps, order=1, tol=0):\n",
    "        self.H = H\n",
    "        self.ψ = ψ\n",
    "        self.dt = dt\n",
    "        self.timesteps = timesteps\n",
    "        self.order = order\n",
    "    def one_step(self):\n",
    "        \n",
    "        \n",
    "        \n",
    "        "
   ]
  },
  {
   "cell_type": "code",
   "execution_count": null,
   "metadata": {
    "collapsed": true
   },
   "outputs": [],
   "source": [
    "N = 6\n",
    "t = 1\n",
    "ω = 0.5\n",
    "dt = 1\n",
    "timesteps = 10\n",
    "ψ = mps.state.random(2, N, 5)\n",
    "H = make_ti_Hamiltonian(N, [t * annihilation_op(2) , t * creation_op(2)], \n",
    "                    [creation_op(2), annihilation_op(2)], \n",
    "                      local_term=ω*creation_op(2)@ annihilation_op(2))\n",
    "A = TEBD_steps(H, ψ, dt, timesteps, tol=0)\n",
    "A.H"
   ]
  }
 ],
 "metadata": {
  "kernelspec": {
   "display_name": "Python 3",
   "language": "python",
   "name": "python3"
  },
  "language_info": {
   "codemirror_mode": {
    "name": "ipython",
    "version": 3
   },
   "file_extension": ".py",
   "mimetype": "text/x-python",
   "name": "python",
   "nbconvert_exporter": "python",
   "pygments_lexer": "ipython3",
   "version": "3.6.3"
  }
 },
 "nbformat": 4,
 "nbformat_minor": 2
}
