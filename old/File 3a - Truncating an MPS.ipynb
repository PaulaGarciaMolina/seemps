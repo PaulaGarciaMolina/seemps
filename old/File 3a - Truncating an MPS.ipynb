{
 "cells": [
  {
   "cell_type": "markdown",
   "metadata": {},
   "source": [
    "# Truncating an MPS"
   ]
  },
  {
   "cell_type": "markdown",
   "metadata": {},
   "source": [
    "## Algorithm"
   ]
  },
  {
   "cell_type": "markdown",
   "metadata": {},
   "source": [
    "The \"simplification\" algorithm consists on approximating a quantum state $|\\Psi\\rangle,$ encoded in a large bond dimension MPS, using an MPS with a smaller bond dimension fixed bond dimension $\\xi$, $|\\phi\\rangle\\in\\mathrm{MPS}_\\xi$. We work by minimizing the distance between both states\n",
    "$$\\phi = \\mathrm{argmin}_{\\phi\\in \\mathrm{MPS}_\\xi} d(\\Psi,\\phi).$$"
   ]
  },
  {
   "cell_type": "markdown",
   "metadata": {},
   "source": [
    "The algorithm uses this distance expressed as a sum of scalar products\n",
    "$$d(\\Psi,\\phi) = \\|\\Psi-\\phi\\|^2 = \\langle\\Psi|\\Psi\\rangle + \\langle\\phi|\\phi\\rangle - \\langle\\Psi|\\phi\\rangle - \\langle\\phi|\\Psi\\rangle$$"
   ]
  },
  {
   "cell_type": "markdown",
   "metadata": {},
   "source": [
    "Given the structure of scalar products we see that the distance is a bilinear function with respect to any of the tensors in $|\\phi\\rangle.$ Take for instance an MPS with four sites and let us focus on the second site. The scalar product between $\\Psi$ and $\\phi$ can be written as the contraction between two environments and two tensors from each state\n",
    "\n",
    "<img src=\"figures/scalar-product-with-environments.svg\" style=\"max-width:90%; width:30em\">"
   ]
  },
  {
   "cell_type": "markdown",
   "metadata": {},
   "source": [
    "As explained in [this notebook](File%201c%20-%20Canonical%20form.ipynb), if $|\\phi\\rangle$ is in canonical form with respect to that site., its norm can be written directly as the contraction of the same tensor and its complex conjugate.\n",
    "\n",
    "<img src=\"figures/scalar-product-canonical.svg\" style=\"max-width:90%; width:30em\">"
   ]
  },
  {
   "cell_type": "markdown",
   "metadata": {},
   "source": [
    "This structure allows us to write the condition for optimality with respect to a site\n",
    "$$\\frac{\\partial}{\\partial D^{i}_{\\alpha\\beta}} d(\\Psi,\\phi) = 0$$\n",
    "as a linear equation with respect to the tensor\n",
    "$$U^{i}_{\\alpha\\beta} - D^{i}_{\\alpha\\beta} = 0$$\n",
    "with the elements\n",
    "$$\\frac{\\partial}{\\partial D^{i *}_{\\alpha\\beta}} \\langle\\phi|\\Psi\\rangle = U^{i}_{\\alpha\\beta}$$\n",
    "and\n",
    "$$\\frac{\\partial}{\\partial D^{i *}_{\\alpha\\beta}} \\langle\\phi|\\phi\\rangle = D^{i}_{\\alpha\\beta}$$"
   ]
  },
  {
   "cell_type": "markdown",
   "metadata": {},
   "source": [
    "### Optimization 1: linear form"
   ]
  },
  {
   "cell_type": "markdown",
   "metadata": {},
   "source": [
    "As mentioned above, once our state $|\\psi\\rangle$ is in canonical form with respect to a given site, the solution to the problem is\n",
    "$$D^i_{\\alpha\\beta} = U^i_{\\alpha\\beta}$$\n",
    "where $U$ is constructed out of the left and right environments $L$ and $R$ and the tensor $C$."
   ]
  },
  {
   "cell_type": "markdown",
   "metadata": {},
   "source": [
    "Our algorithm goes a step further. We realize that $U$ is actually the representaiton of the antilinear form $\\mathcal{L}$. If we define\n",
    "$$\\mathcal{L}[|\\phi\\rangle] := \\langle\\phi|\\Psi\\rangle,$$\n",
    "this linear form is a linear function of the tensor $D$ given by\n",
    "$$\\mathcal{L}[|\\phi\\rangle] = \\sum_{i\\alpha\\beta} \\sum U^{i}_{\\alpha\\beta} D^{i *}_{\\alpha\\beta}.$$"
   ]
  },
  {
   "cell_type": "markdown",
   "metadata": {},
   "source": [
    "Our algorithm therefore revolves around creating an object type called `AntilinearForm` that takes two states $|\\Psi\\rangle$ and $|\\phi\\rangle,$ one of them in canonical form around the $n$-th site, and returns the tensor $C$ that represents the linear form with respect to that site."
   ]
  },
  {
   "cell_type": "markdown",
   "metadata": {},
   "source": [
    "### Optimization 2: two-site method"
   ]
  },
  {
   "cell_type": "markdown",
   "metadata": {},
   "source": [
    "The algorithm in this form has a drawback: *we need to know the size of the tensor* $D^i_{\\alpha\\beta}$ in advance. An useful variant is to optimize with respect to two sites, for instance $D$ and $F$ simultaneously, combining them in a single tensor that satisfies a similar equation. The two-site tensor is then split optimally, distributing the entanglement according to the maximum bond dimension that is allowed.\n",
    "\n",
    "<img src=\"figures/two-site-optimization.svg\" style=\"max-width:70%; width: 35em\">"
   ]
  },
  {
   "cell_type": "markdown",
   "metadata": {},
   "source": [
    "## Antilinear form"
   ]
  },
  {
   "cell_type": "markdown",
   "metadata": {},
   "source": [
    "As anticipated above, the core of the algorithm is to engineer a `LinearForm` class that keeps track of the environments and tensors---$L$, $C$ and $R$--which are needed to reconstruct the linear form from one or two sites."
   ]
  },
  {
   "cell_type": "markdown",
   "metadata": {},
   "source": [
    "It is important to remark that the functions construting the tensors, `tensor1site()` and `tensor2sites()`, are deeply tied to the implementation of environments in [notebook 2a](File%202a%20-%20Expectation%20values.ipynb). We copy here those conventions in graphical form\n",
    "\n",
    "<img src=\"figures/linear-form-contraction-order.svg\" style=\"max-width:90%; width:30em\">"
   ]
  },
  {
   "cell_type": "code",
   "execution_count": null,
   "metadata": {},
   "outputs": [],
   "source": [
    "# file: mps/truncate.py\n",
    "\n",
    "import numpy as np\n",
    "import mps\n",
    "from mps.state import *\n",
    "\n",
    "from mps.expectation import \\\n",
    "    begin_environment, \\\n",
    "    update_right_environment, \\\n",
    "    update_left_environment\n",
    "\n",
    "class AntilinearForm:\n",
    "    #\n",
    "    # This class is an object that formally implements <ψ|ϕ> with an argument\n",
    "    # ϕ that may change and be updated over time.\n",
    "    #\n",
    "    # Given a site 'n' it returns the tensor 'L' such that the contraction\n",
    "    # between 'L' and ϕ[n] is the result of the linear form.\"\"\"\n",
    "    #\n",
    "    def __init__(self, ψ, ϕ, center=0):\n",
    "        #\n",
    "        # At the beginning, we create the right- and left- environments for\n",
    "        # all sites to the left and to the right of 'center', which is the\n",
    "        # focus point of 'LinearForm'.\n",
    "        #\n",
    "        ρ = begin_environment()\n",
    "        R = [ρ] * ψ.size\n",
    "        for i in range(ψ.size-1, center, -1):\n",
    "            R[i-1] = ρ = update_right_environment(ϕ[i], ψ[i], ρ)\n",
    "\n",
    "        ρ = begin_environment()\n",
    "        L = [ρ] * ψ.size\n",
    "        for i in range(0, center):\n",
    "            L[i+1] = ρ = update_left_environment(ϕ[i], ψ[i], ρ)\n",
    "\n",
    "        self.ψ = ψ\n",
    "        self.ϕ = ϕ\n",
    "        self.R = R\n",
    "        self.L = L\n",
    "        self.center = center\n",
    "\n",
    "    def tensor1site(self):\n",
    "        #\n",
    "        # Return the tensor that represents the LinearForm at the 'center'\n",
    "        # site of the MPS\n",
    "        #\n",
    "        center = self.center\n",
    "        L = self.L[center]\n",
    "        R = self.R[center]\n",
    "        C = self.ψ[center]\n",
    "        \n",
    "        return np.einsum('li,ijk,kn->ljn', L, C, R)\n",
    "\n",
    "    def tensor2site(self, direction):\n",
    "        #\n",
    "        # Return the tensor that represents the LinearForm using 'center'\n",
    "        # and 'center+/-1'\n",
    "        #\n",
    "        center = self.center\n",
    "        if direction > 0:\n",
    "            i = self.center\n",
    "            j = i + 1\n",
    "        else:\n",
    "            j = self.center\n",
    "            i = j - 1\n",
    "        L = self.L[i]\n",
    "        A = self.ψ[i]\n",
    "        B = self.ψ[j]\n",
    "        R = self.R[j]\n",
    "        LA = np.einsum('li,ijk->ljk', L, A)\n",
    "        BR = np.einsum('kmn,no->kmo', B, R)\n",
    "        return np.einsum('ljk,kmo->ljmo', LA, BR)\n",
    "\n",
    "    def update(self, direction):\n",
    "        #\n",
    "        # We have updated 'ϕ', which is now centered on a different point.\n",
    "        # We have to recompute the environments.\n",
    "        #\n",
    "        center = self.center\n",
    "        if direction > 0:\n",
    "            L = self.L[center]\n",
    "            if center+1 < ψ.size:\n",
    "                L = update_left_environment(ψ[center], ϕ[center], L)\n",
    "                self.L[center+1] = L\n",
    "                self.center = center+1\n",
    "        else:\n",
    "            R = self.R[center]\n",
    "            if center > 0:\n",
    "                R = update_right_environment(ψ[center], ϕ[center], L)\n",
    "                self.R[center-1] = R\n",
    "                self.center = center-1"
   ]
  },
  {
   "cell_type": "markdown",
   "metadata": {},
   "source": [
    "## Two-site simplification loop"
   ]
  },
  {
   "cell_type": "code",
   "execution_count": null,
   "metadata": {},
   "outputs": [],
   "source": [
    "# file: mps/truncate.py\n",
    "\n",
    "def simplify_mps_2site(ψ, dimension=0, sweeps=2, direction=+1,\n",
    "                       tolerance=DEFAULT_TOLERANCE):\n",
    "    \"\"\"Simplify an MPS ψ transforming it into another one with a smaller bond\n",
    "    dimension, sweeping until convergence is achieved.\n",
    "    \n",
    "    Arguments:\n",
    "    ----------\n",
    "    sweeps = maximum number of sweeps to run\n",
    "    tolerance = relative tolerance when splitting the tensors\n",
    "    dimension = maximum bond dimension, 0 to just truncate to tolerance\n",
    "    \"\"\"\n",
    "    \n",
    "    if dimension == 0:\n",
    "        return CanonicalMPS(ψ, center=0, tolerance=tolerance)"
   ]
  },
  {
   "cell_type": "markdown",
   "metadata": {},
   "source": [
    "---"
   ]
  },
  {
   "cell_type": "markdown",
   "metadata": {},
   "source": [
    "# Tests"
   ]
  },
  {
   "cell_type": "code",
   "execution_count": null,
   "metadata": {},
   "outputs": [],
   "source": [
    "# file: mps/test/test_truncate.py\n",
    "\n",
    "import unittest\n",
    "from mps.test.tools import *\n",
    "\n",
    "class TestLinearForm(unittest.TestCase):\n",
    "    \n",
    "    def test_canonical_env(self):\n",
    "        #\n",
    "        # When we pass two identical canonical form MPS to LinearForm, the\n",
    "        # left and right environments are the identity\n",
    "        #\n",
    "        def ok(ψ):\n",
    "            for center in range(ψ.size):\n",
    "                ϕ = CanonicalMPS(ψ, center)\n",
    "                LF = AntilinearForm(ϕ, ϕ, center)\n",
    "                self.assertTrue(almostIdentity(LF.L[center],+1))\n",
    "                self.assertTrue(almostIdentity(LF.R[center],+1))\n",
    "        \n",
    "        test_over_random_mps(ok)\n",
    "    \n",
    "    def tensor1siteok(self, aϕ, O):\n",
    "        for center in range(aϕ.size):\n",
    "            ϕ = CanonicalMPS(aϕ, center, normalize=True)\n",
    "            for n in range(ϕ.size):\n",
    "                #\n",
    "                # Take an MPS Φ, construct a new state ψ = O1*ϕ with a local\n",
    "                # operator on the 'n-th' site\n",
    "                #\n",
    "                ψ = ϕ.copy()\n",
    "                ψ[n] = np.einsum('ij,ajb->aib', O, ψ[n])\n",
    "                #\n",
    "                # and make sure that the AntilinearForm provides the right tensor to\n",
    "                # compute <ϕ|ψ> = <ϕ|O1|ϕ>\n",
    "                #\n",
    "                Odesired = ϕ.expectation1(O, n)\n",
    "                LF = AntilinearForm(ψ, ϕ, ϕ.center)\n",
    "                Oestimate = np.einsum('aib,aib', ϕ[ϕ.center], LF.tensor1site())\n",
    "                self.assertAlmostEqual(Oestimate, Odesired)\n",
    "                if n >= center:\n",
    "                    self.assertTrue(almostIdentity(LF.L[center],+1))\n",
    "                if n <= center:\n",
    "                    self.assertTrue(almostIdentity(LF.R[center],+1))\n",
    "\n",
    "    def test_tensor1site_product(self):\n",
    "        O = np.array([[0.3,0.2+1.0j],[0.2-1.0j,2.0]])\n",
    "        test_over_random_mps(lambda ϕ: self.tensor1siteok(ϕ, O), D=1)\n",
    "\n",
    "    def test_tensor1site(self):\n",
    "        O = np.array([[0.3,0.2+1.0j],[0.2-1.0j,2.0]])\n",
    "        test_over_random_mps(lambda ϕ: self.tensor1siteok(ϕ, O))\n",
    "    \n",
    "    def tensor2siteok(self, aϕ, O1, O2):\n",
    "        for center in range(aϕ.size):\n",
    "            ϕ = CanonicalMPS(aϕ, center, normalize=True)\n",
    "            for n in range(ϕ.size-1):\n",
    "                #\n",
    "                # Take an MPS Φ, construct a new state ψ = O1*ϕ with a local\n",
    "                # operator on the 'n-th' site\n",
    "                #\n",
    "                ψ = ϕ.copy()\n",
    "                ψ[n] = np.einsum('ij,ajb->aib', O1, ψ[n])\n",
    "                ψ[n+1] = np.einsum('ij,ajb->aib', O2, ψ[n+1])\n",
    "                #\n",
    "                # and make sure that the AntilinearForm provides the right tensor to\n",
    "                # compute <ϕ|ψ> = <ϕ|O1|ϕ>\n",
    "                #\n",
    "                Odesired = ϕ.expectation2(O1, O2, n)\n",
    "                LF = AntilinearForm(ψ, ϕ, center)\n",
    "                if center+1 < ϕ.size:\n",
    "                    D = np.einsum('ijk,klm->ijlm', ϕ[center], ϕ[center+1])\n",
    "                    Oestimate = np.einsum('aijb,aijb', D, LF.tensor2site(+1))\n",
    "                    self.assertAlmostEqual(Oestimate, Odesired)\n",
    "                if center > 0:\n",
    "                    D = np.einsum('ijk,klm->ijlm', ϕ[center-1], ϕ[center])\n",
    "                    Oestimate = np.einsum('aijb,aijb', D, LF.tensor2site(-1))\n",
    "                    self.assertAlmostEqual(Oestimate, Odesired)\n",
    "                if n >= center:\n",
    "                    self.assertTrue(almostIdentity(LF.L[center],+1))\n",
    "                if n+1 <= center:\n",
    "                    self.assertTrue(almostIdentity(LF.R[center],+1))\n",
    "\n",
    "    def test_tensor2site_product(self):\n",
    "        O1 = np.array([[0.3,0.2+1.0j],[0.2-1.0j,2.0]])\n",
    "        O2 = np.array([[0.34,0.4-0.7j],[0.4+0.7j,-0.6]])\n",
    "        test_over_random_mps(lambda ϕ: self.tensor2siteok(ϕ, O1, O2), D=1)\n",
    "\n",
    "    def test_tensor2site(self):\n",
    "        O1 = np.array([[0.3,0.2+1.0j],[0.2-1.0j,2.0]])\n",
    "        O2 = np.array([[0.34,0.4-0.7j],[0.4+0.7j,-0.6]])\n",
    "        test_over_random_mps(lambda ϕ: self.tensor2siteok(ϕ, O1, O2))"
   ]
  },
  {
   "cell_type": "code",
   "execution_count": null,
   "metadata": {},
   "outputs": [],
   "source": [
    "suite1 = unittest.TestLoader().loadTestsFromNames(['__main__.TestLinearForm'])\n",
    "unittest.TextTestRunner(verbosity=2).run(suite1);"
   ]
  },
  {
   "cell_type": "code",
   "execution_count": null,
   "metadata": {},
   "outputs": [],
   "source": []
  },
  {
   "cell_type": "code",
   "execution_count": null,
   "metadata": {},
   "outputs": [],
   "source": []
  }
 ],
 "metadata": {
  "kernelspec": {
   "display_name": "Python 3",
   "language": "python",
   "name": "python3"
  },
  "language_info": {
   "codemirror_mode": {
    "name": "ipython",
    "version": 3
   },
   "file_extension": ".py",
   "mimetype": "text/x-python",
   "name": "python",
   "nbconvert_exporter": "python",
   "pygments_lexer": "ipython3"
  }
 },
 "nbformat": 4,
 "nbformat_minor": 2
}
