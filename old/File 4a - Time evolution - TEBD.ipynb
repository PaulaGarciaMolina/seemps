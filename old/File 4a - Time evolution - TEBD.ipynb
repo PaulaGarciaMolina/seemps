{
 "cells": [
  {
   "cell_type": "code",
   "execution_count": 2,
   "metadata": {
    "collapsed": true
   },
   "outputs": [],
   "source": [
    "%load_ext autoreload\n",
    "from mps.state import *"
   ]
  },
  {
   "cell_type": "markdown",
   "metadata": {},
   "source": [
    "# TIME EVOLUTION"
   ]
  },
  {
   "cell_type": "code",
   "execution_count": 3,
   "metadata": {
    "collapsed": true
   },
   "outputs": [],
   "source": [
    "# file: mps/evolution.py\n",
    "\n",
    "import numpy as np\n",
    "import scipy.linalg\n",
    "from numbers import Number\n",
    "import mps.state\n",
    "import scipy.sparse as sp\n",
    "from mps.state import _truncate_vector, DEFAULT_TOLERANCE"
   ]
  },
  {
   "cell_type": "markdown",
   "metadata": {},
   "source": [
    "## Suzuki-Trotter Decomposition"
   ]
  },
  {
   "cell_type": "markdown",
   "metadata": {},
   "source": [
    "In Suzuki-Trotter decomposition, the Hamiltonians of the nearest neighbor couplings can be decomposed into two non-commuting parts, $H_{\\text{odd}} $ and $ H_{\\text{even}} $, so that all additive 2-site operators in each part commute with each other.\n",
    "\n",
    "Let us consider a simple example of tight binding model with on-site potential and decompose the Hamiltonian into 2-site terms, so that $H=\\sum_i h_{i,i+1}$. \n",
    "\\begin{equation}\n",
    "h_{i,i+1} = \\left(\\frac{\\omega}{2}  a_i^\\dagger a_i \\right) + \\left(\\frac{\\omega}{2}  a_{i+1}^\\dagger a_{i+1} \\right) - \\left( t a_{i}^\\dagger a_{i+1} + \\text{h.c.} \\right).\n",
    "\\end{equation}\n",
    "Since $[h_{i,i+1},h_{i+2,i+3}] = 0$, we can group these terms for even and odd $i$, so that $H = H_{\\text{odd}} + H_{\\text{even}} $. \n",
    "\n",
    "Note that the local term $ a_i^\\dagger a_i$ appears only in one the groups for $i=1$ and $i=N$. Therefore we need to add two on-site terms $h_1 = \\left(\\frac{\\omega}{2}  a_1^\\dagger a_1 \\right) $ and $h_N = \\left(\\frac{\\omega}{2}  a_N^\\dagger a_N \\right) $, to the corresponding two-site terms. So that $h_{1,2} \\rightarrow h_{1,2} + h_1$, and $h_{N-1,N} \\rightarrow h_{N-1,N} + h_N$.\n",
    "\n",
    "And for the first order Suzuki-Trotter decomposition, the evolution operator becomes\n",
    "\\begin{equation}\n",
    "e^{-i \\hat{H} \\Delta t} = e^{-i \\hat{H}_{\\text{odd}} \\Delta t}  e^{-i \\hat{H}_{\\text{even}} \\Delta t} + O(\\Delta t^2).\n",
    "\\end{equation}"
   ]
  },
  {
   "cell_type": "markdown",
   "metadata": {},
   "source": [
    "`pairwise_unitaries` creates a list of Trotter unitarities corresponding to two-site operators, $U_{i,i+1} = e^{-i h_{i,i+1} \\Delta t}$. The Trotter unitarities associated with $\\hat{H}_{\\text{odd}}$ and $\\hat{H}_{\\text{even}}$ are applied separately in consecutive sweeps depending on evenodd value passed to TEBD_sweep class:\n",
    "$$ U = [U_{1,2}, U_{2,3}, U_{3,4}, \\dots ]. $$\n"
   ]
  },
  {
   "cell_type": "code",
   "execution_count": 8,
   "metadata": {
    "collapsed": true
   },
   "outputs": [],
   "source": [
    "# file: mps/evolution.py\n",
    "\n",
    "\n",
    "def pairwise_unitaries(H, δt):\n",
    "    return [scipy.linalg.expm((-1j * δt) * H.interaction_term(k)).\n",
    "                              reshape(H.dimension(k), H.dimension(k+1),\n",
    "                                      H.dimension(k), H.dimension(k+1))\n",
    "            for k in range(H.size-1)]"
   ]
  },
  {
   "cell_type": "markdown",
   "metadata": {},
   "source": [
    "We apply each $U_{i,i+1} = e^{-i h_{i,i+1} \\Delta t}$ to two neighbouring tensors, $A_i$ and $A_{i+1}$ simultaneously, as shown below."
   ]
  },
  {
   "cell_type": "markdown",
   "metadata": {},
   "source": [
    "<img src=\"fig_pdf/apply_mpo_to2site.svg\" style=\"max-width: 90%; width: 35em\">"
   ]
  },
  {
   "cell_type": "markdown",
   "metadata": {},
   "source": [
    "The resulting tensor $B$ is a two-site tensor. We split this tensor using the canonical form algorithm defined in [this notebook](File%201c%20-%20Canonical%20form.ipynb). "
   ]
  },
  {
   "cell_type": "code",
   "execution_count": 9,
   "metadata": {},
   "outputs": [],
   "source": [
    "# file: mps/evolution.py\n",
    "\n",
    "\n",
    "def apply_pairwise_unitaries(U, ψ, start, direction, tol=DEFAULT_TOLERANCE):\n",
    "    \"\"\"Apply the list of pairwise unitaries U onto an MPS state ψ in\n",
    "    canonical form. Unitaries are applied onto pairs of sites (i,i+1),\n",
    "    (i+2,i+3), etc. We start at 'i=start' and move in increasing or\n",
    "    decreasing order of sites depending on 'direction'\n",
    "    \n",
    "    Arguments:\n",
    "    U         -- List of pairwise unitaries\n",
    "    ψ         -- State in canonical form\n",
    "    start     -- First site for applying pairwise unitaries\n",
    "    direction -- Direction of sweep.\n",
    "    \n",
    "    Returns:\n",
    "    ψ         -- MPS in canonical form\"\"\"\n",
    "\n",
    "    if direction > 0:\n",
    "        ψ.recenter(start)\n",
    "        for j in range(start, ψ.size-1, +2):\n",
    "            AA = np.einsum('ijk,klm,prjl -> iprm', ψ[j], ψ[j+1], U[j])\n",
    "            ψ.update_canonical_2site(AA, j, j+1, +1, tolerance=tol)\n",
    "        if j == ψ.size-2:\n",
    "            return ψ.size-3, -1\n",
    "        else:\n",
    "            return ψ.size-2, -1\n",
    "    else:\n",
    "        ψ.recenter(start)\n",
    "        for j in range(start, -1, -2):\n",
    "            AA = np.einsum('ijk,klm,prjl -> iprm', ψ[j], ψ[j+1], U[j])\n",
    "            ψ.update_canonical_2site(AA, j, j+1, -1, tolerance=tol)\n",
    "        if j == 0:\n",
    "            return 1, +1\n",
    "        else:\n",
    "            return 0, +1"
   ]
  },
  {
   "cell_type": "code",
   "execution_count": 10,
   "metadata": {},
   "outputs": [],
   "source": [
    "# file: mps/evolution.py\n",
    "\n",
    "\n",
    "class TEBD_evolution(object):\n",
    "    \"\"\"TEBD_evolution is a class that continuously updates a quantum state ψ\n",
    "    evolving it with a Hamiltonian H over intervals of time dt.\"\"\"\n",
    "    \n",
    "    def __init__(self, ψ, H, dt, timesteps=1, order=1, tol=DEFAULT_TOLERANCE):\n",
    "        \"\"\"Create a TEBD algorithm to evolve a quantum state ψ with a fixed\n",
    "        Hamiltonian H.\n",
    "        \n",
    "        Arguments:\n",
    "        ψ         -- Quantum state to be updated. The class keeps a copy.\n",
    "        H         -- NNHamiltonian for the evolution\n",
    "        dt        -- Size of each Trotter step\n",
    "        timesteps -- How many Trotter steps in each call to evolve()\n",
    "        order     -- Order of the Trotter approximation (1 or 2)\n",
    "        tol       -- Tolerance in MPS truncation\n",
    "        \"\"\"\n",
    "        self.H = H\n",
    "        self.dt = float(dt)\n",
    "        self.timesteps = timesteps\n",
    "        self.order = order\n",
    "        self.tolerance = tol\n",
    "        self.Udt = pairwise_unitaries(H, dt)\n",
    "        if order == 2:\n",
    "            self.Udt2 = pairwise_unitaries(H, dt/2)\n",
    "        if not isinstance(ψ, mps.state.CanonicalMPS):\n",
    "            ψ = mps.state.CanonicalMPS(ψ, center=0)\n",
    "        else:\n",
    "            ψ = ψ.copy()\n",
    "        self.ψ = ψ\n",
    "        if ψ.center <= 1:\n",
    "            self.start = 0\n",
    "            self.direction = +1\n",
    "        else:\n",
    "            self.start = ψ.size-2\n",
    "            self.direction = -1\n",
    "\n",
    "    def evolve(self, timesteps=None):\n",
    "        \"\"\"Update the quantum state with `timesteps` repetitions of the\n",
    "        Trotter algorithms.\"\"\"\n",
    "        if timesteps is None:\n",
    "            timesteps = self.timesteps\n",
    "        for i in range(self.timesteps):\n",
    "            #print(i)\n",
    "            if self.order == 1:\n",
    "                self.start, self.direction = apply_pairwise_unitaries(self.Udt, self.ψ, self.start, self.direction, tol=self.tolerance)\n",
    "                self.start, self.direction = apply_pairwise_unitaries(self.Udt, self.ψ, self.start, self.direction, tol=self.tolerance)\n",
    "            else:\n",
    "                self.start, self.direction = apply_pairwise_unitaries(self.Udt2, self.ψ, self.start, self.direction, tol=self.tolerance)\n",
    "                self.start, self.direction = apply_pairwise_unitaries(self.Udt, self.ψ, self.start, self.direction, tol=self.tolerance)\n",
    "                self.start, self.direction = apply_pairwise_unitaries(self.Udt2, self.ψ, self.start, self.direction, tol=self.tolerance)\n",
    "        return self.ψ\n",
    "\n",
    "    def state():\n",
    "        return self.ψ"
   ]
  },
  {
   "cell_type": "markdown",
   "metadata": {},
   "source": [
    "## Error in Suzuki-Trotter decomposition"
   ]
  },
  {
   "cell_type": "markdown",
   "metadata": {},
   "source": [
    "In the first order Suzuki-Trotter decomposition, evolution operator becomes\n",
    "\\begin{equation}\n",
    "e^{-i \\hat{H} \\Delta t} = e^{-i \\hat{H}_{\\text{odd}} \\Delta t}  e^{-i \\hat{H}_{\\text{even}} \\Delta t} + O(\\Delta t^2).\n",
    "\\end{equation}\n",
    "Note that after $T/\\Delta t$ time steps, the accumulated error is in the order of $\\Delta t$.\n",
    "Higher order Suzuki-Trotter decompositions can be used to reduce error.\n",
    "\n",
    "\n"
   ]
  },
  {
   "cell_type": "markdown",
   "metadata": {},
   "source": [
    "# Tests"
   ]
  },
  {
   "cell_type": "code",
   "execution_count": 11,
   "metadata": {
    "collapsed": true
   },
   "outputs": [],
   "source": [
    "# file: mps/test/test_TEBD.py\n",
    "from mps.evolution import *\n"
   ]
  },
  {
   "cell_type": "code",
   "execution_count": 12,
   "metadata": {
    "collapsed": true
   },
   "outputs": [],
   "source": [
    "# file: mps/test/test_TEBD.py\n",
    "import unittest\n",
    "import mps.state\n",
    "import mps.tools\n",
    "from mps.test.tools import *\n",
    "import scipy.sparse as sp\n",
    "import scipy.sparse.linalg\n",
    "\n",
    "def random_wavefunction(n):\n",
    "    ψ = np.random.rand(n) - 0.5\n",
    "    return ψ / np.linalg.norm(ψ)\n",
    "\n",
    "class TestTEBD_sweep(unittest.TestCase):\n",
    "    \n",
    "    def test_apply_pairwise_unitaries(self):\n",
    "        N = 20\n",
    "        tt = -np.pi/2\n",
    "        ω = np.pi\n",
    "        dt = 1e-3\n",
    "        ψwave = random_wavefunction(N)\n",
    "        ψ = CanonicalMPS(mps.state.wavepacket(ψwave))\n",
    "        # We use the tight-binding Hamiltonian\n",
    "        HMat = sp.diags([[tt,0]*(N//2), [ω]+[ω/2]*(N-2)+[ω], [tt,0]*(N//2)],\n",
    "                  offsets=[-1,0,+1],\n",
    "                  shape=(N,N),\n",
    "                  dtype=np.complex128)\n",
    "        ψwave_final = sp.linalg.expm_multiply(-1j * dt * HMat, ψwave)\n",
    "        \n",
    "        H=make_ti_Hamiltonian(N, [tt * annihilation_op(2) ,tt * creation_op(2)], \n",
    "                            [creation_op(2), annihilation_op(2)], \n",
    "                              local_term=ω*creation_op(2)@ annihilation_op(2))\n",
    "        U = pairwise_unitaries(H, dt)\n",
    "        start = 0\n",
    "        direction = 1\n",
    "        apply_pairwise_unitaries(U, ψ, start, direction, tol=DEFAULT_TOLERANCE)\n",
    "        \n",
    "        self.assertTrue(similar(abs(mps.state.wavepacket(ψwave_final).tovector()), \n",
    "                                abs(ψ.tovector())))\n",
    "        \n",
    "    def test_TEBD_evolution_first_order(self):\n",
    "        #\n",
    "        #\n",
    "        #\n",
    "        N = 19\n",
    "        t = - np.pi/2\n",
    "        ω = np.pi\n",
    "        dt = 1e-6\n",
    "        Nt = int(1000)\n",
    "        #ψwave = random_wavefunction(N)\n",
    "        xx=np.arange(N)\n",
    "        x0 = int(N//2)\n",
    "        w0 = 5\n",
    "        k0 = np.pi/2\n",
    "\n",
    "        ψwave = np.exp(-(xx-x0)**2 / w0**2 + 1j * k0*xx) \n",
    "        ψwave = ψwave / np.linalg.norm(ψwave) \n",
    "        ψmps = CanonicalMPS(mps.state.wavepacket(ψwave))\n",
    "        # We use the tight-binding Hamiltonian\n",
    "        H=make_ti_Hamiltonian(N, [t * annihilation_op(2) , t * creation_op(2)], \n",
    "                            [creation_op(2), annihilation_op(2)], \n",
    "                              local_term=ω*creation_op(2)@ annihilation_op(2))\n",
    "        #for i in range(Nt):\n",
    "        #    \n",
    "        #    ψmps = TEBD_sweep(H, ψmps, dt, 1, 0, tol=DEFAULT_TOLERANCE)\n",
    "        #    ψmps = TEBD_sweep(H, ψmps, dt, -1, 1, tol=DEFAULT_TOLERANCE)\n",
    "        ψmps = TEBD_evolution(ψmps, H, dt, timesteps=Nt, order=1, tol=DEFAULT_TOLERANCE).evolve()\n",
    "        Hmat = sp.diags([[t]*(N), ω, [t]*(N)],\n",
    "                  offsets=[-1,0,+1],\n",
    "                  shape=(N,N),\n",
    "                  dtype=np.complex128)\n",
    "        \n",
    "        ψwave_final = sp.linalg.expm_multiply(-1j * dt*Nt * Hmat, ψwave)\n",
    "        \n",
    "        self.assertTrue(similar(abs(mps.state.wavepacket(ψwave_final).tovector()), \n",
    "                                abs(ψmps.tovector())))\n",
    "                \n",
    "        \n",
    "    def test_TEBD_evolution_second_order(self):\n",
    "        #\n",
    "        #\n",
    "        #\n",
    "        N = 21\n",
    "        t = 0.1\n",
    "        ω = 0.5\n",
    "        dt = 1e-6\n",
    "        Nt = int(1000)\n",
    "        #ψwave = random_wavefunction(N)\n",
    "        xx=np.arange(N)\n",
    "        x0 = int(N//2)\n",
    "        w0 = 5\n",
    "        k0 = np.pi/2\n",
    "\n",
    "        ψwave = np.exp(-(xx-x0)**2 / w0**2 + 1j * k0*xx) \n",
    "        ψwave = ψwave / np.linalg.norm(ψwave) \n",
    "        ψmps = CanonicalMPS(mps.state.wavepacket(ψwave))\n",
    "        # We use the tight-binding Hamiltonian\n",
    "        H=make_ti_Hamiltonian(N, [t * annihilation_op(2) , t * creation_op(2)], \n",
    "                            [creation_op(2), annihilation_op(2)], \n",
    "                              local_term=ω*creation_op(2)@ annihilation_op(2))\n",
    "        #for i in range(Nt):\n",
    "        #    \n",
    "        #    ψmps = TEBD_sweep(H, ψmps, dt, 1, 0, tol=DEFAULT_TOLERANCE)\n",
    "        #    ψmps = TEBD_sweep(H, ψmps, dt, -1, 1, tol=DEFAULT_TOLERANCE)\n",
    "        ψmps = TEBD_evolution(ψmps, H, dt, timesteps=Nt, order=2, tol=DEFAULT_TOLERANCE).evolve()\n",
    "        Hmat = sp.diags([[t]*(N), ω, [t]*(N)],\n",
    "                  offsets=[-1,0,+1],\n",
    "                  shape=(N,N),\n",
    "                  dtype=np.complex128)\n",
    "        \n",
    "        ψwave_final = sp.linalg.expm_multiply(-1j * dt*Nt * Hmat, ψwave)\n",
    "        \n",
    "        self.assertTrue(similar(abs(mps.state.wavepacket(ψwave_final).tovector()), \n",
    "                                abs(ψmps.tovector())))\n",
    "                \n",
    "\n",
    "\n",
    "    "
   ]
  },
  {
   "cell_type": "code",
   "execution_count": 13,
   "metadata": {},
   "outputs": [
    {
     "name": "stderr",
     "output_type": "stream",
     "text": [
      "test_TEBD_evolution_first_order (__main__.TestTEBD_sweep) ... ok\n",
      "test_TEBD_evolution_second_order (__main__.TestTEBD_sweep) ... ok\n",
      "test_apply_pairwise_unitaries (__main__.TestTEBD_sweep) ... ok\n",
      "\n",
      "----------------------------------------------------------------------\n",
      "Ran 3 tests in 11.758s\n",
      "\n",
      "OK\n"
     ]
    }
   ],
   "source": [
    "%autoreload\n",
    "suite1 = unittest.TestLoader().loadTestsFromNames(['__main__.TestTEBD_sweep'])\n",
    "unittest.TextTestRunner(verbosity=2).run(suite1);"
   ]
  },
  {
   "cell_type": "markdown",
   "metadata": {},
   "source": [
    "# Error Analysis"
   ]
  },
  {
   "cell_type": "code",
   "execution_count": 14,
   "metadata": {
    "collapsed": true
   },
   "outputs": [],
   "source": [
    "N = 19\n",
    "tt = -np.pi/2\n",
    "ω = np.pi\n",
    "\n",
    "xx=np.arange(N)\n",
    "x0 = int(N//2)\n",
    "w0 = 5\n",
    "k0 = np.pi/2\n",
    "\n",
    "ψwave = np.exp(-(xx-x0)**2 / w0**2 + 1j * k0*xx) #random_wavefunction(N)\n",
    "ψwave = ψwave / np.linalg.norm(ψwave) \n",
    "ψmps = CanonicalMPS(mps.state.wavepacket(ψwave))\n",
    "# We use the tight-binding Hamiltonian\n",
    "H=make_ti_Hamiltonian(N, [tt * annihilation_op(2) ,tt * creation_op(2)], \n",
    "                    [creation_op(2), annihilation_op(2)], \n",
    "                      local_term=ω* annihilation_op(2) @ creation_op(2))\n",
    "\n",
    "O = mps.evolution.creation_op(2)@ mps.evolution.annihilation_op(2)"
   ]
  },
  {
   "cell_type": "markdown",
   "metadata": {},
   "source": [
    "## Truncation error:"
   ]
  },
  {
   "cell_type": "code",
   "execution_count": 15,
   "metadata": {
    "collapsed": true
   },
   "outputs": [],
   "source": [
    "dt = 1\n",
    "U = pairwise_unitaries(H, dt)\n",
    "\n",
    "HMat = sp.diags([[tt,0]*(N//2), [ω]+[ω/2]*(N-2)+[0], [tt,0]*(N//2)],\n",
    "          offsets=[-1,0,+1],\n",
    "          shape=(N,N),\n",
    "          dtype=np.complex128)\n",
    "ψwave_final = sp.linalg.expm_multiply(-1j * dt * HMat, ψwave)\n",
    "exact_mps = mps.state.wavepacket(ψwave_final)\n",
    "\n",
    "start = 0\n",
    "direction = 1"
   ]
  },
  {
   "cell_type": "code",
   "execution_count": 16,
   "metadata": {
    "collapsed": true
   },
   "outputs": [],
   "source": [
    "tol_list = 0.01*np.arange(100,1,-1) #[0.2, 1e-1, 4e-2, 1e-2, 1e-3, 1e-16]\n",
    "overlap_list =[]\n",
    "for tolerance in tol_list:\n",
    "    ψ = ψmps.copy()\n",
    "    apply_pairwise_unitaries(U, ψ, start, direction, tol=tolerance)\n",
    "    overlap_list.append(abs(1-mps.expectation.scprod(exact_mps,ψ)))\n"
   ]
  },
  {
   "cell_type": "code",
   "execution_count": 17,
   "metadata": {},
   "outputs": [
    {
     "data": {
      "text/plain": [
       "[<matplotlib.lines.Line2D at 0x2231ae06780>]"
      ]
     },
     "execution_count": 17,
     "metadata": {},
     "output_type": "execute_result"
    },
    {
     "data": {
      "image/png": "[encoded data removed]",
      "text/plain": [
       "<Figure size 432x288 with 1 Axes>"
      ]
     },
     "metadata": {
      "needs_background": "light"
     },
     "output_type": "display_data"
    }
   ],
   "source": [
    "%matplotlib inline\n",
    "import matplotlib.pyplot as plt\n",
    "plt.plot(tol_list, overlap_list, \".-\")"
   ]
  },
  {
   "cell_type": "code",
   "execution_count": 18,
   "metadata": {},
   "outputs": [
    {
     "data": {
      "text/plain": [
       "[<matplotlib.lines.Line2D at 0x2231afabbe0>]"
      ]
     },
     "execution_count": 18,
     "metadata": {},
     "output_type": "execute_result"
    },
    {
     "data": {
      "image/png": "[encoded data removed]",
      "text/plain": [
       "<Figure size 432x288 with 1 Axes>"
      ]
     },
     "metadata": {
      "needs_background": "light"
     },
     "output_type": "display_data"
    }
   ],
   "source": [
    "plt.plot(abs(ψwave)**2, \"r-\")\n",
    "plt.plot(abs(ψwave_final)**2, \"b.\")\n",
    "O = mps.evolution.creation_op(2)@ mps.evolution.annihilation_op(2)\n",
    "plt.plot([abs(mps.expectation.expectation1_non_canonical(ψ, O, site)) for site in range(N)] , \"k-\")"
   ]
  },
  {
   "cell_type": "markdown",
   "metadata": {},
   "source": [
    "## Error due to Trotter Decomposition:"
   ]
  },
  {
   "cell_type": "code",
   "execution_count": 19,
   "metadata": {},
   "outputs": [],
   "source": [
    "HMat = sp.diags([[tt]*(N), [ω]*(N), [tt]*(N)],\n",
    "          offsets=[-1,0,+1],\n",
    "          shape=(N,N),\n",
    "          dtype=np.complex128)\n",
    "\n"
   ]
  },
  {
   "cell_type": "markdown",
   "metadata": {},
   "source": [
    "### 1st order:"
   ]
  },
  {
   "cell_type": "code",
   "execution_count": 20,
   "metadata": {},
   "outputs": [],
   "source": [
    "Ntotal = 1.0\n",
    "ψwave_final = sp.linalg.expm_multiply(-1j * Ntotal * HMat, ψwave)\n",
    "exact_mps = mps.state.wavepacket(ψwave_final)\n",
    "\n",
    "Nt_list = np.array([1000,500,250,200,100, 10]) #100 * np.arange(1,5)\n",
    "overlap_list = []\n",
    "overlap2_list = []\n",
    "error_list = []\n",
    "error2_list = []\n",
    "for Nt in Nt_list:\n",
    "    dt = Ntotal/Nt\n",
    "    ψ = ψmps.copy()\n",
    "    ψ = TEBD_evolution(ψ, H, dt, timesteps=Nt, order=1, tol=DEFAULT_TOLERANCE).evolve()   \n",
    "    overlap_list.append(abs(1-mps.expectation.scprod(exact_mps,ψ)))\n",
    "    error_list.append(np.sum(np.absolute([mps.expectation.expectation1_non_canonical(ψ, O, site) \n",
    "                              for site in range(N)]-abs(ψwave_final)**2)))\n",
    "    ψ2 = ψmps.copy()\n",
    "    ψ2 = TEBD_evolution(ψ2, H, dt, timesteps=Nt, order=2, tol=DEFAULT_TOLERANCE).evolve() \n",
    "    overlap2_list.append(abs(1-mps.expectation.scprod(exact_mps,ψ2)))\n",
    "    error2_list.append(np.sum(np.absolute([mps.expectation.expectation1_non_canonical(ψ2, O, site) \n",
    "                              for site in range(N)]-abs(ψwave_final)**2)))\n",
    "\n"
   ]
  },
  {
   "cell_type": "code",
   "execution_count": 21,
   "metadata": {},
   "outputs": [
    {
     "name": "stderr",
     "output_type": "stream",
     "text": [
      "C:\\Users\\JuanJose\\Miniconda3\\lib\\site-packages\\numpy\\core\\numeric.py:538: ComplexWarning: Casting complex values to real discards the imaginary part\n",
      "  return array(a, dtype, copy=False, order=order)\n"
     ]
    },
    {
     "data": {
      "text/plain": [
       "[<matplotlib.lines.Line2D at 0x2231b0310b8>]"
      ]
     },
     "execution_count": 21,
     "metadata": {},
     "output_type": "execute_result"
    },
    {
     "data": {
      "image/png": "[encoded data removed]",
      "text/plain": [
       "<Figure size 432x288 with 1 Axes>"
      ]
     },
     "metadata": {
      "needs_background": "light"
     },
     "output_type": "display_data"
    }
   ],
   "source": [
    "plt.plot([mps.expectation.expectation1_non_canonical(ψmps, O, site) for site in range(N)])\n",
    "plt.plot([mps.expectation.expectation1_non_canonical(ψ, O, site) for site in range(N)])"
   ]
  },
  {
   "cell_type": "code",
   "execution_count": 22,
   "metadata": {},
   "outputs": [
    {
     "data": {
      "text/plain": [
       "[<matplotlib.lines.Line2D at 0x2231b0a7c88>]"
      ]
     },
     "execution_count": 22,
     "metadata": {},
     "output_type": "execute_result"
    },
    {
     "data": {
      "image/png": "[encoded data removed]",
      "text/plain": [
       "<Figure size 432x288 with 1 Axes>"
      ]
     },
     "metadata": {
      "needs_background": "light"
     },
     "output_type": "display_data"
    }
   ],
   "source": [
    "plt.plot(Ntotal/Nt_list, [abs(error) for error in error_list], \".-\")\n",
    "plt.plot(Ntotal/Nt_list[:-1], [abs(error) for error in error2_list][:-1], \".-\")\n",
    "\n",
    "#plt.plot(Ntotal/Nt_list, overlap2_list, \"r.-\")"
   ]
  },
  {
   "cell_type": "code",
   "execution_count": 23,
   "metadata": {},
   "outputs": [
    {
     "data": {
      "text/plain": [
       "[0.022273492642575783,\n",
       " 0.022273240905669123,\n",
       " 0.022272226732226025,\n",
       " 0.022272065616025172,\n",
       " 0.02227533813637677,\n",
       " 0.023734782588045546]"
      ]
     },
     "execution_count": 23,
     "metadata": {},
     "output_type": "execute_result"
    }
   ],
   "source": [
    "error2_list"
   ]
  },
  {
   "cell_type": "code",
   "execution_count": 24,
   "metadata": {},
   "outputs": [
    {
     "data": {
      "text/plain": [
       "[0.010051985919505709,\n",
       " 0.010051965239625453,\n",
       " 0.010051882725182948,\n",
       " 0.010051820977192823,\n",
       " 0.010051309112706932,\n",
       " 0.009991397125261509]"
      ]
     },
     "execution_count": 24,
     "metadata": {},
     "output_type": "execute_result"
    }
   ],
   "source": [
    "overlap2_list"
   ]
  },
  {
   "cell_type": "code",
   "execution_count": 25,
   "metadata": {},
   "outputs": [
    {
     "data": {
      "text/plain": [
       "[<matplotlib.lines.Line2D at 0x2231adbe470>]"
      ]
     },
     "execution_count": 25,
     "metadata": {},
     "output_type": "execute_result"
    },
    {
     "data": {
      "image/png": "[encoded data removed]",
      "text/plain": [
       "<Figure size 432x288 with 1 Axes>"
      ]
     },
     "metadata": {
      "needs_background": "light"
     },
     "output_type": "display_data"
    }
   ],
   "source": [
    "#plt.plot(abs(ψwave)**2, \"r-\")\n",
    "plt.plot(abs(ψwave_final)**2, \"b.-\")\n",
    "O = mps.evolution.creation_op(2)@ mps.evolution.annihilation_op(2)\n",
    "plt.plot([mps.expectation.expectation1_non_canonical(ψ, O, site) for site in range(N)] , \"k.\")\n",
    "#plt.plot([mps.expectation.expectation1_non_canonical(ψ2, O, site) for site in range(N)] , \"r.\")"
   ]
  },
  {
   "cell_type": "markdown",
   "metadata": {},
   "source": [
    "### 2nd order:"
   ]
  },
  {
   "cell_type": "code",
   "execution_count": null,
   "metadata": {
    "collapsed": true
   },
   "outputs": [],
   "source": []
  },
  {
   "cell_type": "code",
   "execution_count": null,
   "metadata": {
    "collapsed": true
   },
   "outputs": [],
   "source": []
  }
 ],
 "metadata": {
  "kernelspec": {
   "display_name": "Python 3",
   "language": "python",
   "name": "python3"
  },
  "language_info": {
   "codemirror_mode": {
    "name": "ipython",
    "version": 3
   },
   "file_extension": ".py",
   "mimetype": "text/x-python",
   "name": "python",
   "nbconvert_exporter": "python",
   "pygments_lexer": "ipython3",
   "version": "3.7.3"
  }
 },
 "nbformat": 4,
 "nbformat_minor": 2
}
