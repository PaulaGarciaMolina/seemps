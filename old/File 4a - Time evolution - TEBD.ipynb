{
 "cells": [
  {
   "cell_type": "code",
   "execution_count": 1,
   "metadata": {
    "collapsed": true
   },
   "outputs": [],
   "source": [
    "%load_ext autoreload\n",
    "from mps.state import *"
   ]
  },
  {
   "cell_type": "markdown",
   "metadata": {},
   "source": [
    "# TIME EVOLUTION"
   ]
  },
  {
   "cell_type": "code",
   "execution_count": 2,
   "metadata": {
    "collapsed": true
   },
   "outputs": [],
   "source": [
    "# file: mps/evolution.py\n",
    "\n",
    "import numpy as np\n",
    "import scipy.linalg\n",
    "from numbers import Number\n",
    "import mps.state\n",
    "import scipy.sparse as sp\n",
    "from mps.state import _truncate_vector, DEFAULT_TOLERANCE"
   ]
  },
  {
   "cell_type": "markdown",
   "metadata": {},
   "source": [
    "Some of the commonly used operators:"
   ]
  },
  {
   "cell_type": "code",
   "execution_count": 3,
   "metadata": {
    "collapsed": true
   },
   "outputs": [],
   "source": [
    "# file: mps/evolution.py\n",
    "\n",
    "σz = np.diag([1.0,-1.0])\n",
    "i2 = np.identity(2)\n",
    "σx = np.array([[0, 1], [1, 0]])\n",
    "σy = -1j * σz @ σx\n",
    "\n",
    "def creation_op(d):\n",
    "    # Returns d dimensional cration operator\n",
    "    return np.diag(np.sqrt(np.arange(1,d)),-1).astype(complex)\n",
    "\n",
    "def annihilation_op(d):\n",
    "    # Returns d dimensional cration operator\n",
    "    return np.diag(np.sqrt(np.arange(1,d)),1).astype(complex)\n",
    "\n"
   ]
  },
  {
   "cell_type": "markdown",
   "metadata": {},
   "source": [
    "## Nearest Neighbor Hamiltonians"
   ]
  },
  {
   "cell_type": "markdown",
   "metadata": {},
   "source": [
    "TEBD is an algorithm that works with nearest-neighbor interaction Hamiltonians. These are Hamiltonian that can be written as follows,\n",
    "$$\n",
    "H = \\sum_{i=0}^{N-2} h_{i,i+1}. \n",
    "$$\n",
    "with pairwise Hamiltonian terms $h_{i,i+1}$ between neighbors on a 1D system."
   ]
  },
  {
   "cell_type": "markdown",
   "metadata": {},
   "source": [
    "`NNHamiltonian` is an abstract class that provides the interface to gather these pairwise interactions $h_{i,i+1}.$ It does not assume anything about the Hamiltonian: it may change in time, it may be precomputed or it may be computed on the fly. Children classes take care of that."
   ]
  },
  {
   "cell_type": "code",
   "execution_count": 4,
   "metadata": {
    "collapsed": true
   },
   "outputs": [],
   "source": [
    "# file: mps/evolution.py\n",
    "\n",
    "class NNHamiltonian(object):\n",
    "    \n",
    "    def __init__(self, size):\n",
    "        #\n",
    "        # Create a nearest-neighbor interaction Hamiltonian\n",
    "        # of a given size, initially empty.\n",
    "        #\n",
    "        self.size = size\n",
    "        self.constant = False\n",
    "\n",
    "    def dimension(self, ndx):\n",
    "        #\n",
    "        # Return the dimension of the local Hilbert space\n",
    "        #\n",
    "        return 0\n",
    "    \n",
    "    def interaction_term(self, ndx, t=0.0):\n",
    "        #\n",
    "        # Return the interaction between sites (ndx,ndx+1)\n",
    "        #\n",
    "        return 0"
   ]
  },
  {
   "cell_type": "markdown",
   "metadata": {},
   "source": [
    "### ConstantNNHamiltonian"
   ]
  },
  {
   "cell_type": "markdown",
   "metadata": {},
   "source": [
    "The first implementation is one that assumes (i) a constant Hamiltonian that (ii) can be decomposed into local terms and product between local operators\n",
    "$$\n",
    "H = \\sum_i O_i + \\sum_i \\sum_n L^{(n)}_i \\otimes R^{(n)}_{i+1}\n",
    "$$"
   ]
  },
  {
   "cell_type": "markdown",
   "metadata": {},
   "source": [
    "In order to construct the pairwise terms $h_{i,i+1}$, we will split the local terms equally among pairs. More precisely, the local term on the i-th site appears with equal weights on $h_{i-1,i}$ and $h_{i,i+1},$ as follows\n",
    "$$\n",
    "h_{i,i+1} = \\sum_n L^{(n)}_i \\otimes R^{(n)}_{i+1} +\n",
    "\\begin{cases}\n",
    "O_i + \\frac{1}{2} O_{i+1}, \\text{ if  } i = 0 \\\\\n",
    "\\frac{1}{2} O_i + O_{i+1}, \\text{ if  } i = N-2 \\\\\n",
    "\\frac{1}{2} O_i + \\frac{1}{2} O_{i+1}, \\text{ else  } \n",
    "\\end{cases}.\n",
    "$$"
   ]
  },
  {
   "cell_type": "markdown",
   "metadata": {},
   "source": [
    "The function below computes the interaction terms $h_{i,i+1}$:"
   ]
  },
  {
   "cell_type": "code",
   "execution_count": 5,
   "metadata": {
    "collapsed": true
   },
   "outputs": [],
   "source": [
    "# file: mps/evolution.py\n",
    "\n",
    "\n",
    "class ConstantNNHamiltonian(NNHamiltonian):\n",
    "\n",
    "    def __init__(self, size, dimension):\n",
    "        #\n",
    "        # Create a nearest-neighbor interaction Hamiltonian with fixed\n",
    "        # local terms and interactions.\n",
    "        #\n",
    "        #  - local_term: operators acting on each site (can be different for each site)\n",
    "        #  - int_left, int_right: list of L and R operators (can be different for each site)\n",
    "        #\n",
    "        super(ConstantNNHamiltonian, self).__init__(size)\n",
    "        self.constant = True\n",
    "        self.int_left = [[] for i in range(size-1)]\n",
    "        self.int_right = [[] for i in range(size-1)]\n",
    "        if isinstance(dimension, Number):\n",
    "            dimension = [dimension] * size\n",
    "        self.dimension_ = dimension\n",
    "\n",
    "    def add_local_term(self, ndx, operator):\n",
    "        #\n",
    "        # Set the local term acting on the given site\n",
    "        #\n",
    "        if ndx == 0:\n",
    "            self.add_interaction_term(ndx, operator, np.eye(self.dimension(1)))\n",
    "        elif ndx == self.size-2:\n",
    "            self.add_interaction_term(ndx, np.eye(self.dimension(ndx)), operator)\n",
    "        else:\n",
    "            self.add_interaction_term(ndx, np.eye(self.dimension(ndx)), 0.5*operator)\n",
    "            self.add_interaction_term(ndx, 0.5*operator, np.eye(self.dimension(ndx+1)))\n",
    "\n",
    "    def add_interaction_term(self, ndx, L, R):\n",
    "        #\n",
    "        # Add an interaction term $L \\otimes R$ acting on sites 'ndx' and 'ndx+1'\n",
    "        #\n",
    "        # Add to int_left, int_right\n",
    "        #\n",
    "        # Update the self.interactions[ndx] term\n",
    "        self.int_left[ndx].append(L)\n",
    "        self.int_right[ndx].append(R)\n",
    "\n",
    "    def dimension(self, ndx):\n",
    "        return self.dimension_[ndx]\n",
    "\n",
    "    def interaction_term(self, ndx, t=0.0):\n",
    "        #for (L, R) in zip(self.int_left[ndx], self.int_right[ndx]):\n",
    "            \n",
    "        return sum([np.kron(L, R) for (L, R) in zip(self.int_left[ndx], self.int_right[ndx])])\n",
    "    \n",
    "    def constant(self):\n",
    "        return True\n",
    "            "
   ]
  },
  {
   "cell_type": "markdown",
   "metadata": {},
   "source": [
    "A particular case would be a translationally invariant, constant Hamiltonian\n",
    "$$H = \\sum_i \\left[O + \\sum_n L^{(n)} \\otimes R^{(n)}\\right]_\\text{site i}$$\n",
    "which has the same local term $O$ on all sites, and the same interaction given by the product of $L^{(n)}$ left and $R^{(n)}$ right operators."
   ]
  },
  {
   "cell_type": "code",
   "execution_count": 6,
   "metadata": {
    "collapsed": true
   },
   "outputs": [],
   "source": [
    "# file: mps/evolution.py\n",
    "\n",
    "def make_ti_Hamiltonian(size, intL, intR, local_term=None):\n",
    "    \"\"\"Construct a translationally invariant, constant Hamiltonian with open\n",
    "    boundaries and fixed interactions.\n",
    "    \n",
    "    Arguments:\n",
    "    size        -- Number of sites in the model\n",
    "    int_left    -- list of L (applied to site ndx) operators\n",
    "    int_right   -- list of R (applied to site ndx + 1) operators\n",
    "    local_term  -- operator acting on every site (optional)\n",
    "    \n",
    "    Returns:\n",
    "    H           -- ConstantNNHamiltonian\n",
    "    \"\"\"\n",
    "    if local_term is not None:\n",
    "        dimension = len(local_term)\n",
    "    else:\n",
    "        dimension = len(intL[0])\n",
    "    \n",
    "    H = ConstantNNHamiltonian(size, dimension)\n",
    "    H.local_term = local_term\n",
    "    H.intL = intL\n",
    "    H.intR = intR\n",
    "    for ndx in range(size-1):\n",
    "        for L,R in zip(H.intL, H.intR):\n",
    "            H.add_interaction_term(ndx, L, R)\n",
    "        if local_term is not None:\n",
    "            H.add_local_term(ndx, local_term)\n",
    "    return H"
   ]
  },
  {
   "cell_type": "markdown",
   "metadata": {},
   "source": [
    "## Suzuki-Trotter Decomposition"
   ]
  },
  {
   "cell_type": "markdown",
   "metadata": {},
   "source": [
    "In Suzuki-Trotter decomposition, the Hamiltonians of the nearest neighbor couplings can be decomposed into two non-commuting parts, $H_{\\text{odd}} $ and $ H_{\\text{even}} $, so that all additive 2-site operators in each part commute with each other.\n",
    "\n",
    "Let us consider a simple example of tight binding model with on-site potential and decompose the Hamiltonian into 2-site terms, so that $H=\\sum_i h_{i,i+1}$. \n",
    "\\begin{equation}\n",
    "h_{i,i+1} = \\left(\\frac{\\omega}{2}  a_i^\\dagger a_i \\right) + \\left(\\frac{\\omega}{2}  a_{i+1}^\\dagger a_{i+1} \\right) - \\left( t a_{i}^\\dagger a_{i+1} + \\text{h.c.} \\right).\n",
    "\\end{equation}\n",
    "Since $[h_{i,i+1},h_{i+2,i+3}] = 0$, we can group these terms for even and odd $i$, so that $H = H_{\\text{odd}} + H_{\\text{even}} $. \n",
    "\n",
    "Note that the local term $ a_i^\\dagger a_i$ appears only in one the groups for $i=1$ and $i=N$. Therefore we need to add two on-site terms $h_1 = \\left(\\frac{\\omega}{2}  a_1^\\dagger a_1 \\right) $ and $h_N = \\left(\\frac{\\omega}{2}  a_N^\\dagger a_N \\right) $, to the corresponding two-site terms. So that $h_{1,2} \\rightarrow h_{1,2} + h_1$, and $h_{N-1,N} \\rightarrow h_{N-1,N} + h_N$.\n",
    "\n",
    "And for the first order Suzuki-Trotter decomposition, the evolution operator becomes\n",
    "\\begin{equation}\n",
    "e^{-i \\hat{H} \\Delta t} = e^{-i \\hat{H}_{\\text{odd}} \\Delta t}  e^{-i \\hat{H}_{\\text{even}} \\Delta t} + O(\\Delta t^2).\n",
    "\\end{equation}"
   ]
  },
  {
   "cell_type": "markdown",
   "metadata": {},
   "source": [
    "`pairwise_unitaries` creates a list of Trotter unitarities corresponding to two-site operators, $U_{i,i+1} = e^{-i h_{i,i+1} \\Delta t}$. The Trotter unitarities associated with $\\hat{H}_{\\text{odd}}$ and $\\hat{H}_{\\text{even}}$ are applied separately in consecutive sweeps depending on evenodd value passed to TEBD_sweep class:\n",
    "$$ U = [U_{1,2}, U_{2,3}, U_{3,4}, \\dots ]. $$\n"
   ]
  },
  {
   "cell_type": "code",
   "execution_count": 7,
   "metadata": {
    "collapsed": true
   },
   "outputs": [],
   "source": [
    "# file: mps/evolution.py\n",
    "\n",
    "\n",
    "def pairwise_unitaries(H, δt):\n",
    "    return [scipy.linalg.expm((-1j * δt) * H.interaction_term(k)).\n",
    "                              reshape(H.dimension(k), H.dimension(k+1),\n",
    "                                      H.dimension(k), H.dimension(k+1))\n",
    "            for k in range(H.size-1)]"
   ]
  },
  {
   "cell_type": "markdown",
   "metadata": {},
   "source": [
    "We apply each $U_{i,i+1} = e^{-i h_{i,i+1} \\Delta t}$ to two neighbouring tensors, $A_i$ and $A_{i+1}$ simultaneously, as shown below."
   ]
  },
  {
   "cell_type": "markdown",
   "metadata": {},
   "source": [
    "<img src=\"fig_pdf/apply_mpo_to2site.svg\" style=\"max-width: 90%; width: 35em\">"
   ]
  },
  {
   "cell_type": "markdown",
   "metadata": {},
   "source": [
    "The resulting tensor $B$ is a two-site tensor. We split this tensor using the canonical form algorithm defined in [this notebook](File%201c%20-%20Canonical%20form.ipynb). "
   ]
  },
  {
   "cell_type": "code",
   "execution_count": 8,
   "metadata": {
    "collapsed": true
   },
   "outputs": [],
   "source": [
    "# file: mps/evolution.py\n",
    "\n",
    "\n",
    "def apply_pairwise_unitaries(U, ψ, start, direction, tol=DEFAULT_TOLERANCE):\n",
    "    \"\"\"Apply the list of pairwise unitaries U onto an MPS state ψ in\n",
    "    canonical form. Unitaries are applied onto pairs of sites (i,i+1),\n",
    "    (i+2,i+3), etc. We start at 'i=start' and move in increasing or\n",
    "    decreasing order of sites depending on 'direction'\n",
    "    \n",
    "    Arguments:\n",
    "    U         -- List of pairwise unitaries\n",
    "    ψ         -- State in canonical form\n",
    "    start     -- First site for applying pairwise unitaries\n",
    "    direction -- Direction of sweep.\n",
    "    \n",
    "    Returns:\n",
    "    ψ         -- MPS in canonical form\"\"\"\n",
    "\n",
    "    if direction > 0:\n",
    "        ψ.recenter(start)\n",
    "        for j in range(start, ψ.size-1, +2):\n",
    "            AA = np.einsum('ijk,klm,prjl -> iprm', ψ[j], ψ[j+1], U[j])\n",
    "            ψ.update_canonical_2site(AA, j, j+1, +1, tolerance=tol)\n",
    "        if j == ψ.size-2:\n",
    "            return ψ.size-3, -1\n",
    "        else:\n",
    "            return ψ.size-2, -1\n",
    "    else:\n",
    "        ψ.recenter(start)\n",
    "        for j in range(start, -1, -2):\n",
    "            AA = np.einsum('ijk,klm,prjl -> iprm', ψ[j], ψ[j+1], U[j])\n",
    "            ψ.update_canonical_2site(AA, j, j+1, -1, tolerance=tol)\n",
    "        if j == 0:\n",
    "            return 1, +1\n",
    "        else:\n",
    "            return 0, +1"
   ]
  },
  {
   "cell_type": "code",
   "execution_count": 9,
   "metadata": {
    "collapsed": true
   },
   "outputs": [],
   "source": [
    "# file: mps/evolution.py\n",
    "\n",
    "\n",
    "class TEBD_evolution(object):\n",
    "    \"\"\"TEBD_evolution is a class that continuously updates a quantum state ψ\n",
    "    evolving it with a Hamiltonian H over intervals of time dt.\"\"\"\n",
    "    \n",
    "    def __init__(self, ψ, H, dt, timesteps=1, order=1, tol=DEFAULT_TOLERANCE):\n",
    "        \"\"\"Create a TEBD algorithm to evolve a quantum state ψ with a fixed\n",
    "        Hamiltonian H.\n",
    "        \n",
    "        Arguments:\n",
    "        ψ         -- Quantum state to be updated. The class keeps a copy.\n",
    "        H         -- NNHamiltonian for the evolution\n",
    "        dt        -- Size of each Trotter step\n",
    "        timesteps -- How many Trotter steps in each call to evolve()\n",
    "        order     -- Order of the Trotter approximation (1 or 2)\n",
    "        tol       -- Tolerance in MPS truncation\n",
    "        \"\"\"\n",
    "        self.H = H\n",
    "        self.dt = float(dt)\n",
    "        self.timesteps = timesteps\n",
    "        self.order = order\n",
    "        self.tolerance = tol\n",
    "        self.Udt = pairwise_unitaries(H, dt)\n",
    "        if order == 2:\n",
    "            self.Udt2 = pairwise_unitaries(H, dt/2)\n",
    "        if not isinstance(ψ, mps.state.CanonicalMPS):\n",
    "            ψ = mps.state.CanonicalMPS(ψ, center=0)\n",
    "        else:\n",
    "            ψ = ψ.copy()\n",
    "        self.ψ = ψ\n",
    "        if ψ.center <= 1:\n",
    "            self.start = 0\n",
    "            self.direction = +1\n",
    "        else:\n",
    "            self.start = ψ.size-2\n",
    "            self.direction = -1\n",
    "\n",
    "    def evolve(self, timesteps=None):\n",
    "        \"\"\"Update the quantum state with `timesteps` repetitions of the\n",
    "        Trotter algorithms.\"\"\"\n",
    "        if timesteps is None:\n",
    "            timesteps = self.timesteps\n",
    "        for i in range(self.timesteps):\n",
    "            #print(i)\n",
    "            if self.order == 1:\n",
    "                self.start, self.direction = apply_pairwise_unitaries(self.Udt, self.ψ, self.start, self.direction, tol=self.tolerance)\n",
    "                self.start, self.direction = apply_pairwise_unitaries(self.Udt, self.ψ, self.start, self.direction, tol=self.tolerance)\n",
    "            else:\n",
    "                self.start, self.direction = apply_pairwise_unitaries(self.Udt, self.ψ, self.start, self.direction, tol=self.tolerance)\n",
    "                self.start, self.direction = apply_pairwise_unitaries(self.Udt, self.ψ, self.start, self.direction, tol=self.tolerance)\n",
    "                self.start, self.direction = apply_pairwise_unitaries(self.Udt, self.ψ, self.start, self.direction, tol=self.tolerance)\n",
    "        return self.ψ\n",
    "\n",
    "    def state():\n",
    "        return self.ψ"
   ]
  },
  {
   "cell_type": "markdown",
   "metadata": {},
   "source": [
    "## Error in Suzuki-Trotter decomposition"
   ]
  },
  {
   "cell_type": "markdown",
   "metadata": {},
   "source": [
    "In the first order Suzuki-Trotter decomposition, evolution operator becomes\n",
    "\\begin{equation}\n",
    "e^{-i \\hat{H} \\Delta t} = e^{-i \\hat{H}_{\\text{odd}} \\Delta t}  e^{-i \\hat{H}_{\\text{even}} \\Delta t} + O(\\Delta t^2).\n",
    "\\end{equation}\n",
    "Note that after $T/\\Delta t$ time steps, the accumulated error is in the order of $\\Delta t$.\n",
    "Higher order Suzuki-Trotter decompositions can be used to reduce error.\n",
    "\n",
    "\n"
   ]
  },
  {
   "cell_type": "markdown",
   "metadata": {},
   "source": [
    "# Tests"
   ]
  },
  {
   "cell_type": "code",
   "execution_count": 10,
   "metadata": {
    "collapsed": true
   },
   "outputs": [],
   "source": [
    "# file: mps/test/test_TEBD.py\n",
    "from mps.evolution import *\n"
   ]
  },
  {
   "cell_type": "code",
   "execution_count": 11,
   "metadata": {
    "collapsed": true
   },
   "outputs": [],
   "source": [
    "# file: mps/test/test_TEBD.py\n",
    "import unittest\n",
    "import mps.state\n",
    "import mps.tools\n",
    "from mps.test.tools import *\n",
    "import scipy.sparse as sp\n",
    "import scipy.sparse.linalg\n",
    "\n",
    "def random_wavefunction(n):\n",
    "    ψ = np.random.rand(n) - 0.5\n",
    "    return ψ / np.linalg.norm(ψ)\n",
    "\n",
    "class TestTEBD_sweep(unittest.TestCase):\n",
    "    \n",
    "    def test_apply_pairwise_unitaries(self):\n",
    "        N = 20\n",
    "        tt = -np.pi/2\n",
    "        ω = np.pi\n",
    "        dt = 1e-3\n",
    "        ψwave = random_wavefunction(N)\n",
    "        ψ = CanonicalMPS(mps.state.wavepacket(ψwave))\n",
    "        # We use the tight-binding Hamiltonian\n",
    "        HMat = sp.diags([[tt,0]*(N//2), [ω]+[ω/2]*(N-2)+[ω], [tt,0]*(N//2)],\n",
    "                  offsets=[-1,0,+1],\n",
    "                  shape=(N,N),\n",
    "                  dtype=np.complex128)\n",
    "        ψwave_final = sp.linalg.expm_multiply(-1j * dt * HMat, ψwave)\n",
    "        \n",
    "        H=make_ti_Hamiltonian(N, [tt * annihilation_op(2) ,tt * creation_op(2)], \n",
    "                            [creation_op(2), annihilation_op(2)], \n",
    "                              local_term=ω*creation_op(2)@ annihilation_op(2))\n",
    "        U = pairwise_unitaries(H, dt)\n",
    "        start = 0\n",
    "        direction = 1\n",
    "        apply_pairwise_unitaries(U, ψ, start, direction, tol=DEFAULT_TOLERANCE)\n",
    "        \n",
    "        self.assertTrue(similar(abs(mps.state.wavepacket(ψwave_final).tovector()), \n",
    "                                abs(ψ.tovector())))\n",
    "        \n",
    "                  \n",
    "class TestTEBD_sweep(unittest.TestCase):\n",
    "        \n",
    "    def test_TEBD_evolution_first_order(self):\n",
    "        #\n",
    "        #\n",
    "        #\n",
    "        N = 19\n",
    "        t = - np.pi/2\n",
    "        ω = np.pi\n",
    "        dt = 1e-6\n",
    "        Nt = int(1000)\n",
    "        #ψwave = random_wavefunction(N)\n",
    "        xx=np.arange(N)\n",
    "        x0 = int(N//2)\n",
    "        w0 = 5\n",
    "        k0 = np.pi/2\n",
    "\n",
    "        ψwave = np.exp(-(xx-x0)**2 / w0**2 + 1j * k0*xx) \n",
    "        ψwave = ψwave / np.linalg.norm(ψwave) \n",
    "        ψmps = CanonicalMPS(mps.state.wavepacket(ψwave))\n",
    "        # We use the tight-binding Hamiltonian\n",
    "        H=make_ti_Hamiltonian(N, [t * annihilation_op(2) , t * creation_op(2)], \n",
    "                            [creation_op(2), annihilation_op(2)], \n",
    "                              local_term=ω*creation_op(2)@ annihilation_op(2))\n",
    "        #for i in range(Nt):\n",
    "        #    \n",
    "        #    ψmps = TEBD_sweep(H, ψmps, dt, 1, 0, tol=DEFAULT_TOLERANCE)\n",
    "        #    ψmps = TEBD_sweep(H, ψmps, dt, -1, 1, tol=DEFAULT_TOLERANCE)\n",
    "        ψmps = TEBD_evolution(ψmps, H, dt, timesteps=Nt, order=1, tol=DEFAULT_TOLERANCE).evolve()\n",
    "        Hmat = sp.diags([[t]*(N), ω, [t]*(N)],\n",
    "                  offsets=[-1,0,+1],\n",
    "                  shape=(N,N),\n",
    "                  dtype=np.complex128)\n",
    "        \n",
    "        ψwave_final = sp.linalg.expm_multiply(-1j * dt*Nt * Hmat, ψwave)\n",
    "        \n",
    "        self.assertTrue(similar(abs(mps.state.wavepacket(ψwave_final).tovector()), \n",
    "                                abs(ψmps.tovector())))\n",
    "                \n",
    "        \n",
    "    def test_TEBD_evolution_second_order(self):\n",
    "        #\n",
    "        #\n",
    "        #\n",
    "        N = 21\n",
    "        t = 0.1\n",
    "        ω = 0.5\n",
    "        dt = 1e-6\n",
    "        Nt = int(1000)\n",
    "        #ψwave = random_wavefunction(N)\n",
    "        xx=np.arange(N)\n",
    "        x0 = int(N//2)\n",
    "        w0 = 5\n",
    "        k0 = np.pi/2\n",
    "\n",
    "        ψwave = np.exp(-(xx-x0)**2 / w0**2 + 1j * k0*xx) \n",
    "        ψwave = ψwave / np.linalg.norm(ψwave) \n",
    "        ψmps = CanonicalMPS(mps.state.wavepacket(ψwave))\n",
    "        # We use the tight-binding Hamiltonian\n",
    "        H=make_ti_Hamiltonian(N, [t * annihilation_op(2) , t * creation_op(2)], \n",
    "                            [creation_op(2), annihilation_op(2)], \n",
    "                              local_term=ω*creation_op(2)@ annihilation_op(2))\n",
    "        #for i in range(Nt):\n",
    "        #    \n",
    "        #    ψmps = TEBD_sweep(H, ψmps, dt, 1, 0, tol=DEFAULT_TOLERANCE)\n",
    "        #    ψmps = TEBD_sweep(H, ψmps, dt, -1, 1, tol=DEFAULT_TOLERANCE)\n",
    "        ψmps = TEBD_evolution(ψmps, H, dt, timesteps=Nt, order=2, tol=DEFAULT_TOLERANCE).evolve()\n",
    "        Hmat = sp.diags([[t]*(N), ω, [t]*(N)],\n",
    "                  offsets=[-1,0,+1],\n",
    "                  shape=(N,N),\n",
    "                  dtype=np.complex128)\n",
    "        \n",
    "        ψwave_final = sp.linalg.expm_multiply(-1j * dt*Nt * Hmat, ψwave)\n",
    "        \n",
    "        self.assertTrue(similar(abs(mps.state.wavepacket(ψwave_final).tovector()), \n",
    "                                abs(ψmps.tovector())))\n",
    "                \n",
    "\n",
    "\n",
    "    "
   ]
  },
  {
   "cell_type": "code",
   "execution_count": 12,
   "metadata": {},
   "outputs": [
    {
     "name": "stderr",
     "output_type": "stream",
     "text": [
      "test_TEBD_evolution_first_order (__main__.TestTEBD_sweep) ... ok\n",
      "test_TEBD_evolution_second_order (__main__.TestTEBD_sweep) ... FAIL\n",
      "\n",
      "======================================================================\n",
      "FAIL: test_TEBD_evolution_second_order (__main__.TestTEBD_sweep)\n",
      "----------------------------------------------------------------------\n",
      "Traceback (most recent call last):\n",
      "  File \"<ipython-input-11-370a8fae9bd1>\", line 116, in test_TEBD_evolution_second_order\n",
      "    abs(ψmps.tovector())))\n",
      "AssertionError: False is not true\n",
      "\n",
      "----------------------------------------------------------------------\n",
      "Ran 2 tests in 5.562s\n",
      "\n",
      "FAILED (failures=1)\n"
     ]
    }
   ],
   "source": [
    "%autoreload\n",
    "suite1 = unittest.TestLoader().loadTestsFromNames(['__main__.TestTEBD_sweep'])\n",
    "unittest.TextTestRunner(verbosity=2).run(suite1);"
   ]
  },
  {
   "cell_type": "markdown",
   "metadata": {},
   "source": [
    "# Error Analysis"
   ]
  },
  {
   "cell_type": "code",
   "execution_count": 13,
   "metadata": {
    "collapsed": true
   },
   "outputs": [],
   "source": [
    "N = 19\n",
    "tt = -np.pi/2\n",
    "ω = np.pi\n",
    "\n",
    "xx=np.arange(N)\n",
    "x0 = int(N//2)\n",
    "w0 = 5\n",
    "k0 = np.pi/2\n",
    "\n",
    "ψwave = np.exp(-(xx-x0)**2 / w0**2 + 1j * k0*xx) #random_wavefunction(N)\n",
    "ψwave = ψwave / np.linalg.norm(ψwave) \n",
    "ψmps = CanonicalMPS(mps.state.wavepacket(ψwave))\n",
    "# We use the tight-binding Hamiltonian\n",
    "H=make_ti_Hamiltonian(N, [tt * annihilation_op(2) ,tt * creation_op(2)], \n",
    "                    [creation_op(2), annihilation_op(2)], \n",
    "                      local_term=ω*creation_op(2)@ annihilation_op(2))\n"
   ]
  },
  {
   "cell_type": "markdown",
   "metadata": {},
   "source": [
    "## Truncation error:"
   ]
  },
  {
   "cell_type": "code",
   "execution_count": 14,
   "metadata": {
    "collapsed": true
   },
   "outputs": [],
   "source": [
    "dt = 1\n",
    "U = pairwise_unitaries(H, dt)\n",
    "\n",
    "HMat = sp.diags([[tt,0]*(N//2), [ω]+[ω/2]*(N-2)+[0], [tt,0]*(N//2)],\n",
    "          offsets=[-1,0,+1],\n",
    "          shape=(N,N),\n",
    "          dtype=np.complex128)\n",
    "ψwave_final = sp.linalg.expm_multiply(-1j * dt * HMat, ψwave)\n",
    "exact_mps = mps.state.wavepacket(ψwave_final)\n",
    "\n",
    "start = 0\n",
    "direction = 1"
   ]
  },
  {
   "cell_type": "code",
   "execution_count": 15,
   "metadata": {},
   "outputs": [
    {
     "data": {
      "text/plain": [
       "array([[ 0.0+0.j,  0.0+0.j,  0.0+0.j,  0.0+0.j],\n",
       "       [ 0.0+0.j,  1.0+0.j, -0.5+0.j,  0.0+0.j],\n",
       "       [ 0.0+0.j, -0.5+0.j,  0.0+0.j,  0.0+0.j],\n",
       "       [ 0.0+0.j,  0.0+0.j,  0.0+0.j,  1.0+0.j]])"
      ]
     },
     "execution_count": 15,
     "metadata": {},
     "output_type": "execute_result"
    }
   ],
   "source": [
    "# THE INTERACTION TERMS ARE CHECKED TO BE CORRECT\n",
    "H.interaction_term(-1)/np.pi "
   ]
  },
  {
   "cell_type": "code",
   "execution_count": 16,
   "metadata": {
    "collapsed": true
   },
   "outputs": [],
   "source": [
    "tol_list = 0.01*np.arange(100,1,-1) #[0.2, 1e-1, 4e-2, 1e-2, 1e-3, 1e-16]\n",
    "overlap_list =[]\n",
    "for tolerance in tol_list:\n",
    "    ψ = ψmps.copy()\n",
    "    apply_pairwise_unitaries(U, ψ, start, direction, tol=tolerance)\n",
    "    overlap_list.append(abs(1-mps.expectation.scprod(exact_mps,ψ)))\n"
   ]
  },
  {
   "cell_type": "code",
   "execution_count": 17,
   "metadata": {},
   "outputs": [
    {
     "data": {
      "text/plain": [
       "[<matplotlib.lines.Line2D at 0x7f62e7fc2ef0>]"
      ]
     },
     "execution_count": 17,
     "metadata": {},
     "output_type": "execute_result"
    },
    {
     "data": {
      "image/png": "[encoded data removed]",
      "text/plain": [
       "<matplotlib.figure.Figure at 0x7f630401fe80>"
      ]
     },
     "metadata": {},
     "output_type": "display_data"
    }
   ],
   "source": [
    "%matplotlib inline\n",
    "import matplotlib.pyplot as plt\n",
    "plt.plot(tol_list, overlap_list, \".-\")"
   ]
  },
  {
   "cell_type": "code",
   "execution_count": 18,
   "metadata": {},
   "outputs": [
    {
     "data": {
      "text/plain": [
       "[<matplotlib.lines.Line2D at 0x7f62e7f2d358>]"
      ]
     },
     "execution_count": 18,
     "metadata": {},
     "output_type": "execute_result"
    },
    {
     "data": {
      "image/png": "[encoded data removed]",
      "text/plain": [
       "<matplotlib.figure.Figure at 0x7f630401f940>"
      ]
     },
     "metadata": {},
     "output_type": "display_data"
    }
   ],
   "source": [
    "plt.plot(abs(ψwave)**2, \"r-\")\n",
    "plt.plot(abs(ψwave_final)**2, \"b.\")\n",
    "O = mps.evolution.creation_op(2)@ mps.evolution.annihilation_op(2)\n",
    "plt.plot([abs(mps.expectation.expectation1_non_canonical(ψ, O, site)) for site in range(N)] , \"k-\")"
   ]
  },
  {
   "cell_type": "markdown",
   "metadata": {},
   "source": [
    "## Error due to Trotter Decomposition:"
   ]
  },
  {
   "cell_type": "code",
   "execution_count": 19,
   "metadata": {
    "collapsed": true
   },
   "outputs": [],
   "source": [
    "Ntotal = 1\n",
    "\n",
    "HMat = sp.diags([[tt]*(N), [ω]*(N), [tt]*(N)],\n",
    "          offsets=[-1,0,+1],\n",
    "          shape=(N,N),\n",
    "          dtype=np.complex128)\n",
    "ψwave_final = sp.linalg.expm_multiply(-1j * Ntotal * HMat, ψwave)\n",
    "exact_mps = mps.state.wavepacket(ψwave_final)\n",
    "\n",
    "start = 0\n",
    "direction = 1"
   ]
  },
  {
   "cell_type": "code",
   "execution_count": 20,
   "metadata": {
    "collapsed": true
   },
   "outputs": [],
   "source": [
    "Nt_list = 100 * np.arange(1,5)\n",
    "overlap_list = []\n",
    "for Nt in Nt_list:\n",
    "    dt = Ntotal/Nt\n",
    "    ψ = ψmps.copy()\n",
    "    ψ = TEBD_evolution(ψ, H, dt, timesteps=Nt, order=1, tol=DEFAULT_TOLERANCE).evolve()   \n",
    "    overlap_list.append(abs(1-mps.expectation.scprod(exact_mps,ψ)))\n"
   ]
  },
  {
   "cell_type": "code",
   "execution_count": 21,
   "metadata": {},
   "outputs": [
    {
     "data": {
      "text/plain": [
       "[<matplotlib.lines.Line2D at 0x7f62e7ed1828>]"
      ]
     },
     "execution_count": 21,
     "metadata": {},
     "output_type": "execute_result"
    },
    {
     "data": {
      "image/png": "[encoded data removed]",
      "text/plain": [
       "<matplotlib.figure.Figure at 0x7f62e7f75630>"
      ]
     },
     "metadata": {},
     "output_type": "display_data"
    }
   ],
   "source": [
    "plt.plot(Ntotal/Nt_list, overlap_list, \".-\")"
   ]
  },
  {
   "cell_type": "code",
   "execution_count": 22,
   "metadata": {},
   "outputs": [
    {
     "name": "stderr",
     "output_type": "stream",
     "text": [
      "/home/burcin/anaconda3/lib/python3.6/site-packages/numpy/core/numeric.py:531: ComplexWarning: Casting complex values to real discards the imaginary part\n",
      "  return array(a, dtype, copy=False, order=order)\n"
     ]
    },
    {
     "data": {
      "text/plain": [
       "[<matplotlib.lines.Line2D at 0x7f62e7e40198>]"
      ]
     },
     "execution_count": 22,
     "metadata": {},
     "output_type": "execute_result"
    },
    {
     "data": {
      "image/png": "[encoded data removed]",
      "text/plain": [
       "<matplotlib.figure.Figure at 0x7f62e7f315f8>"
      ]
     },
     "metadata": {},
     "output_type": "display_data"
    }
   ],
   "source": [
    "plt.plot(abs(ψwave)**2, \"r-\")\n",
    "plt.plot(abs(ψwave_final)**2, \"b.\")\n",
    "O = mps.evolution.creation_op(2)@ mps.evolution.annihilation_op(2)\n",
    "plt.plot([mps.expectation.expectation1_non_canonical(ψ, O, site) for site in range(N)] , \"k-\")"
   ]
  },
  {
   "cell_type": "code",
   "execution_count": null,
   "metadata": {
    "collapsed": true
   },
   "outputs": [],
   "source": []
  },
  {
   "cell_type": "code",
   "execution_count": null,
   "metadata": {
    "collapsed": true
   },
   "outputs": [],
   "source": []
  }
 ],
 "metadata": {
  "kernelspec": {
   "display_name": "Python 3",
   "language": "python",
   "name": "python3"
  },
  "language_info": {
   "codemirror_mode": {
    "name": "ipython",
    "version": 3
   },
   "file_extension": ".py",
   "mimetype": "text/x-python",
   "name": "python",
   "nbconvert_exporter": "python",
   "pygments_lexer": "ipython3",
   "version": "3.6.3"
  }
 },
 "nbformat": 4,
 "nbformat_minor": 2
}
