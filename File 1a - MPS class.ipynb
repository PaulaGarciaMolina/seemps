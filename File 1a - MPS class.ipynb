{
 "cells": [
  {
   "cell_type": "markdown",
   "metadata": {},
   "source": [
    "# Session 1: MPS class"
   ]
  },
  {
   "cell_type": "markdown",
   "metadata": {},
   "source": [
    "Some requirements for this library component. We use the `numpy` library and import algorithms to operate on matrix product states, such as scalar produts, expectation values, norms, etc."
   ]
  },
  {
   "cell_type": "code",
   "execution_count": 1,
   "metadata": {},
   "outputs": [],
   "source": [
    "# file: mps/state.py\n",
    "import numpy as np"
   ]
  },
  {
   "cell_type": "markdown",
   "metadata": {},
   "source": [
    "## General idea"
   ]
  },
  {
   "cell_type": "markdown",
   "metadata": {},
   "source": [
    "A Matrix-Product State (abbreviated MPS), is a representation of quantum states as a one-dimensional contraction of tensors. Imagine the following quantum state\n",
    "\n",
    "<img src=\"figures/wavefunction.svg\" style=\"max-width: 50%; width:400px\">"
   ]
  },
  {
   "cell_type": "markdown",
   "metadata": {},
   "source": [
    "The state has four physical indices, so that we can write it as\n",
    "$$|\\Psi\\rangle = \\sum_{i_1,i_2,i_3,i_4} \\Psi_{i_1,i_2,i_3,i_4} |i_1,i_2,i_3,i_4\\rangle.$$\n",
    "If the physical dimension of each component is $d$, that is $i_k \\in \\{0,1,\\ldots, d-1\\}$, this means that the total state requires $d^4$ complex numbers to be represented.\n"
   ]
  },
  {
   "cell_type": "markdown",
   "metadata": {},
   "source": [
    "The MPS representation uses a small number of tensors (matrices) to reconstruct the previous state as\n",
    "\n",
    "<img src=\"figures/four-site-mps.svg\" style=\"max-width: 50%; width: 400px\">"
   ]
  },
  {
   "cell_type": "markdown",
   "metadata": {},
   "source": [
    "Now the state reads\n",
    "$$|\\Psi\\rangle = \\sum_{i's, \\alpha's} A^{i_1}_{\\alpha_1} B^{i_2}_{\\alpha_1,\\alpha_2} C^{i_4}_{\\alpha_2,\\alpha_3} D^{i_3}_{\\alpha_3}|i_1,i_2,i_3,i_4\\rangle.$$\n",
    "This can be simply written in a more compact fashion as\n",
    "$$\n",
    "|\\Psi\\rangle = A^{i_1} B^{i_2} C^{i_3} D^{i_4}|i_1,i_2,i_3,i_4\\rangle,\n",
    "$$\n",
    "assuming that the $\\{A,B,C,D\\}$ are either vectors or matrices, labeled by the physical index $i_k$, and that we contract over repeated indices."
   ]
  },
  {
   "cell_type": "markdown",
   "metadata": {},
   "source": [
    "## Tensor arrays"
   ]
  },
  {
   "cell_type": "markdown",
   "metadata": {},
   "source": [
    "The first step before creating more complicated structures is to ensure that we have the right logic when studying these tensor arrays. Our contract is as follows:\n",
    "\n",
    "* The tensor network can be destructively modified. That is, we can replace tensors in the network after it has been created.\n",
    "\n",
    "* The tensor network can be cloned, creating a fresh new copy that shares the same tensor.\n",
    "\n",
    "* A clone of a tensor network only shares the tensors with its sibling. We can modify the sibling and the clone replacing tensors, without one affecting the other.\n",
    "\n",
    "* We do not contemplate in-place modifications to the tensors themselves."
   ]
  },
  {
   "cell_type": "markdown",
   "metadata": {},
   "source": [
    "The class that implements this contract is shown below. It uses `__getitem__` and `__setitem__` to allow access to the class as if it was an array. It implements `__copy__()` to create fresh new copies, either with the library function `copy.copy()` or by directly using the method `copy()`."
   ]
  },
  {
   "cell_type": "code",
   "execution_count": 2,
   "metadata": {},
   "outputs": [],
   "source": [
    "# file: mps/state.py\n",
    "\n",
    "\n",
    "class TensorArray(object):\n",
    "    \"\"\"TensorArray class.\n",
    "\n",
    "    This class provides the basis for all tensor networks. The class abstracts\n",
    "    a one-dimensional array of tensors that is freshly copied whenever the\n",
    "    object is cloned. Two TensorArray's can share the same tensors and be\n",
    "    destructively modified.\n",
    "\n",
    "    Attributes:\n",
    "    size = number of tensors in the array\n",
    "    \"\"\"\n",
    "\n",
    "    def __init__(self, data):\n",
    "        \"\"\"Create a new TensorArray from a list of tensors. 'data' is an\n",
    "        iterable object, such as a list or other sequence. The list is cloned\n",
    "        before storing it into this object, so as to avoid side effects when\n",
    "        destructively modifying the array.\"\"\"\n",
    "        self._data = list(data)\n",
    "        self.size = len(self._data)\n",
    "\n",
    "    def __getitem__(self, k):\n",
    "        #\n",
    "        # Get MP matrix at position `k`. If 'A' is an MP, we can now\n",
    "        # do A[k]\n",
    "        #\n",
    "        return self._data[k]\n",
    "\n",
    "    def __setitem__(self, k, value):\n",
    "        #\n",
    "        # Replace matrix at position `k` with new tensor `value`. If 'A'\n",
    "        # is an MP, we can now do A[k] = value\n",
    "        #\n",
    "        self._data[k] = value\n",
    "        return value\n",
    "\n",
    "    def __copy__(self):\n",
    "        #\n",
    "        # Return a copy of the MPS with a fresh new array.\n",
    "        #\n",
    "        return type(self)(self._data)\n",
    "\n",
    "    def copy(self):\n",
    "        \"\"\"Return a fresh new TensorArray that shares the same tensor as its\n",
    "        sibling, but which can be destructively modified without affecting it.\n",
    "        \"\"\"\n",
    "        return self.__copy__()"
   ]
  },
  {
   "cell_type": "markdown",
   "metadata": {},
   "source": [
    "## Simple MPS"
   ]
  },
  {
   "cell_type": "markdown",
   "metadata": {},
   "source": [
    "An MPS is a tensor array that stores tensors with three indices. We will follow these conventions:\n",
    "\n",
    "1. All tensors in MPS.data will have three indices, `A[α, i, β]`:\n",
    "  - `(α, β)` are the virtual dimensions of the MPS\n",
    "  - `i` is the physical dimension of the given site.\n",
    "  \n",
    "2. In general, we do not yet assume any normal form for the states.\n",
    "\n",
    "3. We restrict ourselves to open-boundary-condition states, which have the following properties:\n",
    "  - For the first site, `α=1`. For the last site `β=1`.\n",
    "  - For the first site, α takes one value only, i.e. `α=0` in Python. For the last site `β=0` similarly."
   ]
  },
  {
   "cell_type": "markdown",
   "metadata": {},
   "source": [
    "All our implementations of MPS share the interface below, which provides methods for additional algorithms --scalar products, norms, expected values, etc-- that are developed in other components of the library."
   ]
  },
  {
   "cell_type": "code",
   "execution_count": 3,
   "metadata": {},
   "outputs": [],
   "source": [
    "# file: mps/state.py\n",
    "\n",
    "\n",
    "class MPS(TensorArray):\n",
    "    \"\"\"MPS (Matrix Product State) class.\n",
    "\n",
    "    This implements a bare-bones Matrix Product State object with open\n",
    "    boundary conditions. The tensors have three indices, A[α,i,β], where\n",
    "    'α,β' are the internal labels and 'i' is the physical state of the given\n",
    "    site.\n",
    "\n",
    "    Attributes:\n",
    "    size = number of tensors in the array\n",
    "    \"\"\"\n",
    "\n",
    "    #\n",
    "    # This class contains all the matrices and vectors that form\n",
    "    # a Matrix-Product State.\n",
    "    #\n",
    "    def __init__(self, data):\n",
    "        super(MPS, self).__init__(data)\n",
    "\n",
    "    def dimension(self):\n",
    "        \"\"\"Return the total size of the Hilbert space in which this MPS lives.\"\"\"\n",
    "        return np.product([a.shape[1] for a in self._data])\n",
    "\n",
    "    def tovector(self):\n",
    "        \"\"\"Return one-dimensional complex vector of dimension() elements, with\n",
    "        the complete wavefunction that is encoded in the MPS.\"\"\"\n",
    "        return _mps2vector(self)\n",
    "\n",
    "    def norm2(self):\n",
    "        \"\"\"Return the square of the norm-2 of this state, ‖ψ‖**2 = <ψ|ψ>.\"\"\"\n",
    "        return mps.expectation.scprod(self.data, self._data)\n",
    "\n",
    "    def expectation1(self, operator, n):\n",
    "        \"\"\"Return the expectation value of 'operator' acting on the 'n'-th\n",
    "        site of the MPS.\"\"\"\n",
    "        return mps.expectation.expectation1_non_canonical(self, operator, n)\n",
    "\n",
    "    def all_expectation1(self, operator):\n",
    "        \"\"\"Return all expectation values of 'operator' acting on all possible\n",
    "        sites of the MPS.\"\"\"\n",
    "        return mps.expectation.all_expectation1_non_canonical(self, operator)"
   ]
  },
  {
   "cell_type": "markdown",
   "metadata": {},
   "source": [
    "### Convert an MPS into a vector"
   ]
  },
  {
   "cell_type": "markdown",
   "metadata": {},
   "source": [
    "This is our first algorithm. We write a function that convers an MPS into a complex vector $\\Psi$ with all the components in it. The algorithm implements the full contraction of the tensors, from left to right (i.e. from position 0 to position L-1, where L is the `mps.size`).\n",
    "\n",
    "For instance, if the MPS has two sites of dimension 2, the MPS will have two tensors $A_{0i\\alpha}$ and $B_{\\alpha{j}0}$ that are contracted together to give the state\n",
    "\n",
    "$$|\\psi\\rangle = \\sum_{i,j,\\alpha,\\beta} A_{0i\\alpha}B_{\\alpha{j}0}|i\\rangle\\otimes|j\\rangle.$$"
   ]
  },
  {
   "cell_type": "code",
   "execution_count": 4,
   "metadata": {},
   "outputs": [],
   "source": [
    "# file: mps/state.py\n",
    "\n",
    "\n",
    "def _mps2vector(data):\n",
    "    #\n",
    "    # Input:\n",
    "    #  - data: list of tensors for the MPS (unchecked)\n",
    "    # Output:\n",
    "    #  - Ψ: Vector of complex numbers with all the wavefunction amplitudes\n",
    "    #\n",
    "    # We keep Ψ[D,β], a tensor with all matrices contracted so far, where\n",
    "    # 'D' is the dimension of the physical subsystems up to this point and\n",
    "    # 'β' is the last uncontracted internal index.\n",
    "    #\n",
    "    Ψ = np.ones((1, 1,))\n",
    "    D = 1\n",
    "    for (i, A) in enumerate(data):\n",
    "        α, d, β = A.shape\n",
    "        Ψ = np.einsum('Da,akb->Dkb', Ψ, A)\n",
    "        D = D * d\n",
    "        Ψ = np.reshape(Ψ, (D, β))\n",
    "    return Ψ.reshape((Ψ.size,))"
   ]
  },
  {
   "cell_type": "markdown",
   "metadata": {},
   "source": [
    "Given our conventions, the wavefunction will be ordered as follows\n",
    "\n",
    "$$\\Psi = \\left(\\begin{array}{c}\n",
    "\\sum_\\alpha A_{00\\alpha} B_{\\alpha00} \\\\\n",
    "\\sum_\\alpha A_{00\\alpha} B_{\\alpha10} \\\\\n",
    "\\sum_\\alpha A_{01\\alpha} B_{\\alpha00} \\\\\n",
    "\\sum_\\alpha A_{01\\alpha} B_{\\alpha10}\n",
    "\\end{array}\\right).$$"
   ]
  },
  {
   "cell_type": "code",
   "execution_count": 5,
   "metadata": {
    "scrolled": false
   },
   "outputs": [
    {
     "data": {
      "text/plain": [
       "array([ 3.,  5.,  6., 10.])"
      ]
     },
     "execution_count": 5,
     "metadata": {},
     "output_type": "execute_result"
    }
   ],
   "source": [
    "_mps2vector([np.reshape([1, 2], (1, 2, 1)), np.reshape([3, 5], (1, 2, 1))])"
   ]
  },
  {
   "cell_type": "markdown",
   "metadata": {},
   "source": [
    "This is the same convention as used by `np.kron()`"
   ]
  },
  {
   "cell_type": "code",
   "execution_count": 6,
   "metadata": {},
   "outputs": [
    {
     "data": {
      "text/plain": [
       "array([ 3,  5,  6, 10])"
      ]
     },
     "execution_count": 6,
     "metadata": {},
     "output_type": "execute_result"
    }
   ],
   "source": [
    "np.kron([1, 2], [3, 5])"
   ]
  },
  {
   "cell_type": "markdown",
   "metadata": {},
   "source": [
    "----"
   ]
  },
  {
   "cell_type": "markdown",
   "metadata": {},
   "source": [
    "# Tests"
   ]
  },
  {
   "cell_type": "markdown",
   "metadata": {},
   "source": [
    "Below we offer a minimal test framework for our matrix product state objects, that is part of our library's test suite. The tests can be run directly from here or from the test suite."
   ]
  },
  {
   "cell_type": "markdown",
   "metadata": {},
   "source": [
    "The first set of tests refers to the TensorArray object and verifies the contract we defined above."
   ]
  },
  {
   "cell_type": "code",
   "execution_count": 7,
   "metadata": {
    "scrolled": true
   },
   "outputs": [],
   "source": [
    "# file: mps/test/test_mps.py\n",
    "\n",
    "import unittest\n",
    "\n",
    "\n",
    "class TestTensorArray(unittest.TestCase):\n",
    "\n",
    "    def setUp(self):\n",
    "        self.product_state = [np.reshape([1.0, 2.0], (1, 2, 1)),\n",
    "                              np.reshape([3.0, 5.0], (1, 2, 1)),\n",
    "                              np.reshape([7.0, 11.0], (1, 2, 1))]\n",
    "\n",
    "    def test_independence(self):\n",
    "        #\n",
    "        # If we create a TestArray, it can be destructively modified without\n",
    "        # affecting it original list.\n",
    "        #\n",
    "        data = self.product_state.copy()\n",
    "        A = TensorArray(data)\n",
    "        for i in range(A.size):\n",
    "            A[i] = np.reshape([13, 15], (1, 2, 1))\n",
    "            self.assertTrue(np.all(A[i] != data[i]))\n",
    "            self.assertTrue(np.all(data[i] == self.product_state[i]))\n",
    "\n",
    "    def test_copy_independence(self):\n",
    "        #\n",
    "        # If we clone a TestArray, it can be destructively modified without\n",
    "        # affecting its sibling.\n",
    "        #\n",
    "        A = TensorArray(self.product_state.copy())\n",
    "        B = A.copy()\n",
    "        for i in range(A.size):\n",
    "            A[i] = np.reshape([13, 15], (1, 2, 1))\n",
    "            self.assertTrue(np.all(A[i] != B[i]))\n",
    "            self.assertTrue(np.all(B[i] == self.product_state[i]))\n",
    "\n",
    "    def test_sharing(self):\n",
    "        #\n",
    "        # The clone of a TensorArray shares the same tensors\n",
    "        #\n",
    "        data = [x.copy() for x in self.product_state]\n",
    "        A = TensorArray(data)\n",
    "        B = A.copy()\n",
    "        for i in range(A.size):\n",
    "            A[i][0,0,0] = 17.0\n",
    "            self.assertTrue(np.all(A[i] == B[i]))"
   ]
  },
  {
   "cell_type": "code",
   "execution_count": 8,
   "metadata": {},
   "outputs": [
    {
     "name": "stderr",
     "output_type": "stream",
     "text": [
      "test_copy_independence (__main__.TestTensorArray) ... ok\n",
      "test_independence (__main__.TestTensorArray) ... ok\n",
      "test_sharing (__main__.TestTensorArray) ... ok\n",
      "\n",
      "----------------------------------------------------------------------\n",
      "Ran 3 tests in 0.003s\n",
      "\n",
      "OK\n"
     ]
    }
   ],
   "source": [
    "suite1 = unittest.TestLoader().loadTestsFromNames(['__main__.TestTensorArray'])\n",
    "unittest.TextTestRunner(verbosity=2).run(suite1);"
   ]
  }
 ],
 "metadata": {
  "anaconda-cloud": {},
  "kernelspec": {
   "display_name": "Python 3",
   "language": "python",
   "name": "python3"
  },
  "language_info": {
   "codemirror_mode": {
    "name": "ipython",
    "version": 3
   },
   "file_extension": ".py",
   "mimetype": "text/x-python",
   "name": "python",
   "nbconvert_exporter": "python",
   "pygments_lexer": "ipython3",
   "version": "3.6.6"
  },
  "latex_envs": {
   "LaTeX_envs_menu_present": true,
   "autoclose": false,
   "autocomplete": true,
   "bibliofile": "biblio.bib",
   "cite_by": "apalike",
   "current_citInitial": 1,
   "eqLabelWithNumbers": true,
   "eqNumInitial": 1,
   "hotkeys": {
    "equation": "Ctrl-E",
    "itemize": "Ctrl-I"
   },
   "labels_anchors": false,
   "latex_user_defs": false,
   "report_style_numbering": false,
   "user_envs_cfg": false
  }
 },
 "nbformat": 4,
 "nbformat_minor": 2
}
