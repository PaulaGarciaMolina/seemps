{
 "cells": [
  {
   "cell_type": "markdown",
   "metadata": {},
   "source": [
    "# MPS Library"
   ]
  },
  {
   "cell_type": "markdown",
   "metadata": {},
   "source": [
    "## Organization"
   ]
  },
  {
   "cell_type": "markdown",
   "metadata": {},
   "source": [
    "The components of the library are:\n",
    "\n",
    "1. Matrix Product State object\n",
    "\n",
    "   a. State classes\n",
    "\n",
    "   b. Sample states: W states, GHZ, AKLT, etc.\n",
    "   \n",
    "   c. Canonical form\n",
    "\n",
    "2. Ways to extract information about a state\n",
    "\n",
    "   a. Expectation values and correlations\n",
    "   \n",
    "   b. Density matrices\n",
    "\n",
    "3. Solution of static problems.\n",
    "\n",
    "   a. Truncating an MPS\n",
    "   \n",
    "   b. Ground state problems\n",
    "   \n",
    "   c. Stationary states of master equations\n",
    "   \n",
    "4. Solution of time-evolution problems.\n",
    "\n",
    "   a. TEBD-like Trotter decompositions\n",
    "   \n",
    "   b. MPS-like Trotter decompositions\n",
    "   \n",
    "   c. Arnoldi / long-range methods\n"
   ]
  },
  {
   "cell_type": "markdown",
   "metadata": {},
   "source": [
    "## Building"
   ]
  },
  {
   "cell_type": "markdown",
   "metadata": {},
   "source": [
    "The library is designed as a series of more or less self-explaining notebooks, with Python code that can be executed or exported into a library. This choice of format allows for a more literate-like programming, combining images with equations and text, so as to make the algorithms more understandable."
   ]
  },
  {
   "cell_type": "markdown",
   "metadata": {},
   "source": [
    "In order to convert the notebooks into a library, we use a simple tool built by J. J. García Ripoll and available at [https://github.com/juanjosegarciaripoll/exportnb](GitHub). We download the latest version of the routine, which is not yet standard."
   ]
  },
  {
   "cell_type": "code",
   "execution_count": 1,
   "metadata": {},
   "outputs": [],
   "source": [
    "import urllib.request\n",
    "import os.path\n",
    "\n",
    "if not os.path.isfile(\"exportnb.py\"):\n",
    "    urllib.request.urlretrieve(\"https://raw.githubusercontent.com/juanjosegarciaripoll/exportnb/master/exportnb.py\",\n",
    "                               \"exportnb.py\")"
   ]
  },
  {
   "cell_type": "markdown",
   "metadata": {},
   "source": [
    "Once we have the export routine, we run through the notebooks in order, building a library that is to be stored in the `mps/` directory."
   ]
  },
  {
   "cell_type": "code",
   "execution_count": 2,
   "metadata": {},
   "outputs": [],
   "source": [
    "import exportnb"
   ]
  },
  {
   "cell_type": "code",
   "execution_count": 3,
   "metadata": {},
   "outputs": [],
   "source": [
    "files = [\n",
    "    'File 0 - Root.ipynb',\n",
    "    'File 1a - MPS class.ipynb',\n",
    "    'File 1b - MPS sample states.ipynb',\n",
    "    #'File 1b - canonical MPS class.ipynb',\n",
    "    'File 2a - Expectation values.ipynb',\n",
    "    #'File 2 - Matrix Product Operators.ipynb',\n",
    "    #'File 2a - Nearest neighbor Hamiltonian.ipynb',\n",
    "    #'File 6a - Time evolution - TEBD.ipynb'\n",
    "]"
   ]
  },
  {
   "cell_type": "code",
   "execution_count": 4,
   "metadata": {
    "scrolled": false
   },
   "outputs": [],
   "source": [
    "exportnb.export_notebooks(files)"
   ]
  },
  {
   "cell_type": "markdown",
   "metadata": {},
   "source": [
    "## Library core"
   ]
  },
  {
   "cell_type": "markdown",
   "metadata": {},
   "source": [
    "The following is the glue code that loads all of the library components when we use `import mps`. It re-exports some commonly used functions and constants and sets some global variables that are used for debugging."
   ]
  },
  {
   "cell_type": "code",
   "execution_count": 5,
   "metadata": {},
   "outputs": [],
   "source": [
    "# file: mps/__init__.py\n",
    "\n",
    "import numpy as np\n",
    "\n",
    "__all__ = ['state','expectation']"
   ]
  },
  {
   "cell_type": "markdown",
   "metadata": {},
   "source": [
    "Note how we follow the literate programing conventions of the `exportnb` library, found in [GitHub](https://github.com/juanjosegarciaripoll/exportnb). The code box is labeled with the `# file:` comment indicating where this text will be exported to. Multiple boxes can be exported to the same or different files, based on these tags."
   ]
  },
  {
   "cell_type": "code",
   "execution_count": 6,
   "metadata": {},
   "outputs": [],
   "source": [
    "# file: mps/tools.py\n",
    "\n",
    "\n",
    "def take_from_list(O, i):\n",
    "    if type(O) == list:\n",
    "        return O[i]\n",
    "    else:\n",
    "        return O"
   ]
  },
  {
   "cell_type": "code",
   "execution_count": 7,
   "metadata": {},
   "outputs": [],
   "source": [
    "# file: mps/tools.py\n",
    "\n",
    "DEBUG = True\n",
    "\n",
    "\n",
    "def log(*args):\n",
    "    if DEBUG:\n",
    "        print(*args)"
   ]
  }
 ],
 "metadata": {
  "kernelspec": {
   "display_name": "Python 3",
   "language": "python",
   "name": "python3"
  },
  "language_info": {
   "codemirror_mode": {
    "name": "ipython",
    "version": 3
   },
   "file_extension": ".py",
   "mimetype": "text/x-python",
   "name": "python",
   "nbconvert_exporter": "python",
   "pygments_lexer": "ipython3",
   "version": "3.6.6"
  },
  "latex_envs": {
   "LaTeX_envs_menu_present": true,
   "autoclose": false,
   "autocomplete": true,
   "bibliofile": "biblio.bib",
   "cite_by": "apalike",
   "current_citInitial": 1,
   "eqLabelWithNumbers": true,
   "eqNumInitial": 1,
   "hotkeys": {
    "equation": "Ctrl-E",
    "itemize": "Ctrl-I"
   },
   "labels_anchors": false,
   "latex_user_defs": false,
   "report_style_numbering": false,
   "user_envs_cfg": false
  }
 },
 "nbformat": 4,
 "nbformat_minor": 2
}
