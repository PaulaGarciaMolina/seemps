{
 "cells": [
  {
   "cell_type": "code",
   "execution_count": null,
   "metadata": {},
   "outputs": [],
   "source": [
    "%load_ext autoreload\n",
    "from mps.state import *"
   ]
  },
  {
   "cell_type": "markdown",
   "metadata": {},
   "source": [
    "# TIME EVOLUTION"
   ]
  },
  {
   "cell_type": "code",
   "execution_count": null,
   "metadata": {},
   "outputs": [],
   "source": [
    "# file: mps/evolution.py\n",
    "\n",
    "import numpy as np\n",
    "import scipy.linalg\n",
    "from numbers import Number\n",
    "import mps.state\n",
    "import scipy.sparse as sp\n",
    "from mps.state import _truncate_vector, DEFAULT_TOLERANCE"
   ]
  },
  {
   "cell_type": "markdown",
   "metadata": {},
   "source": [
    "Some of the commonly used operators:"
   ]
  },
  {
   "cell_type": "code",
   "execution_count": null,
   "metadata": {},
   "outputs": [],
   "source": [
    "# file: mps/evolution.py\n",
    "\n",
    "σz = np.diag([1.0,-1.0])\n",
    "i2 = np.identity(2)\n",
    "σx = np.array([[0, 1], [1, 0]])\n",
    "σy = -1j * σz @ σx\n",
    "\n",
    "def creation_op(d):\n",
    "    # Returns d dimensional cration operator\n",
    "    return np.diag(np.sqrt(np.arange(1,d)),-1).astype(complex)\n",
    "\n",
    "def annihilation_op(d):\n",
    "    # Returns d dimensional cration operator\n",
    "    return np.diag(np.sqrt(np.arange(1,d)),1).astype(complex)\n",
    "\n"
   ]
  },
  {
   "cell_type": "markdown",
   "metadata": {},
   "source": [
    "## Nearest Neighbor Hamiltonians"
   ]
  },
  {
   "cell_type": "markdown",
   "metadata": {},
   "source": [
    "Below is the interface we use for nearest neighbor interaction Hamiltonians. It is initially empty."
   ]
  },
  {
   "cell_type": "code",
   "execution_count": null,
   "metadata": {},
   "outputs": [],
   "source": [
    "# file: mps/evolution.py\n",
    "\n",
    "class NNHamiltonian(object):\n",
    "    \n",
    "    def __init__(self, size):\n",
    "        #\n",
    "        # Create a nearest-neighbor interaction Hamiltonian\n",
    "        # of a given size, initially empty.\n",
    "        #\n",
    "        self.size = size\n",
    "        \n",
    "    def dimension(self, ndx):\n",
    "        #\n",
    "        # Return the dimension of the local Hilbert space\n",
    "        #\n",
    "        return 0\n",
    "    \n",
    "    def interaction_term(self, ndx, t=0.0):\n",
    "        #\n",
    "        # Return the interaction between sites (ndx,ndx+1)\n",
    "        #\n",
    "        return 0"
   ]
  },
  {
   "cell_type": "markdown",
   "metadata": {},
   "source": [
    "Generally, we can have different local terms and different interactions on every site\n",
    "$$\n",
    "H = \\sum_i \\left[O_i + \\sum_n L^{(n)}_i \\otimes R^{(n)}_{i+1}\\right]_\\text{site i} \n",
    "=  \\sum_{i=0}^{N-2} h_{i,i+1}. \n",
    "$$\n",
    "where\n",
    "$$\n",
    "h_{i,i+1} = \\sum_n L^{(n)}_i \\otimes R^{(n)}_{i+1} +\n",
    "\\begin{cases}\n",
    "O_i + \\frac{1}{2} O_{i+1}, \\text{ if  } i = 0 \\\\\n",
    "\\frac{1}{2} O_i + O_{i+1}, \\text{ if  } i = N-2 \\\\\n",
    "\\frac{1}{2} O_i + \\frac{1}{2} O_{i+1}, \\text{ else  } \n",
    "\\end{cases}\n",
    "$$\n",
    "and $N>2$."
   ]
  },
  {
   "cell_type": "markdown",
   "metadata": {},
   "source": [
    "The function below computes the interaction terms $h_{i,i+1}$:"
   ]
  },
  {
   "cell_type": "code",
   "execution_count": null,
   "metadata": {},
   "outputs": [],
   "source": [
    "# file: mps/evolution.py\n",
    "\n",
    "\n",
    "class ConstantNNHamiltonian(NNHamiltonian):\n",
    "\n",
    "    def __init__(self, size, dimension):\n",
    "        #\n",
    "        # Create a nearest-neighbor interaction Hamiltonian with fixed\n",
    "        # local terms and interactions.\n",
    "        #\n",
    "        #  - local_term: operators acting on each site (can be different for each site)\n",
    "        #  - int_left, int_right: list of L and R operators (can be different for each site)\n",
    "        #\n",
    "        self.size = size\n",
    "        self.int_left = [[]] * (size-1)\n",
    "        self.int_right = [[]] * (size-1)\n",
    "        if isinstance(dimension, Number):\n",
    "            dimension = [dimension] * size\n",
    "        self.dimension_ = dimension\n",
    "\n",
    "    def set_local_term(self, ndx, operator):\n",
    "        #\n",
    "        # Set the local term acting on the given site\n",
    "        #\n",
    "        if ndx == 0:\n",
    "            self.add_interaction_term(ndx, operator, np.eye(self.dimension(1)))\n",
    "        elif ndx == self.size-2:\n",
    "            self.add_interaction_term(ndx, np.eye(self.dimension(ndx)), operator)\n",
    "        else:\n",
    "            self.add_interaction_term(ndx, np.eye(self.dimension(ndx)), 0.5*operator)\n",
    "            self.add_interaction_term(ndx, 0.5*operator, np.eye(self.dimension(ndx+1)))\n",
    "\n",
    "    def add_interaction_term(self, ndx, L, R):\n",
    "        #\n",
    "        # Add an interaction term $L \\otimes R$ acting on sites 'ndx' and 'ndx+1'\n",
    "        #\n",
    "        # Add to int_left, int_right\n",
    "        #\n",
    "        # Update the self.interactions[ndx] term\n",
    "        self.int_left[ndx].append(L)\n",
    "        self.int_right[ndx].append(R)\n",
    "\n",
    "    def dimension(self, ndx):\n",
    "        return self.dimension_[ndx]\n",
    "\n",
    "    def interaction_term(self, ndx, t=0.0):\n",
    "        #for (L, R) in zip(self.int_left[ndx], self.int_right[ndx]):\n",
    "            \n",
    "        return sum([np.kron(L, R) for (L, R) in zip(self.int_left[ndx], self.int_right[ndx])])\n",
    "            "
   ]
  },
  {
   "cell_type": "markdown",
   "metadata": {},
   "source": [
    "A particular case would be a translationally invariant, constant Hamiltonian\n",
    "$$H = \\sum_i \\left[O + \\sum_n L^{(n)} \\otimes R^{(n)}\\right]_\\text{site i}$$\n",
    "which has the same local term $O$ on all sites, and the same interaction given by the product of $L^{(n)}$ left and $R^{(n)}$ right operators."
   ]
  },
  {
   "cell_type": "code",
   "execution_count": null,
   "metadata": {},
   "outputs": [],
   "source": [
    "# file: mps/evolution.py\n",
    "\n",
    "def make_ti_Hamiltonian(size, intL, intR, local_term=None):\n",
    "    \"\"\"Construct a translationally invariant, constant Hamiltonian with open\n",
    "    boundaries and fixed interactions.\n",
    "    \n",
    "    Arguments:\n",
    "    size        -- Number of sites in the model\n",
    "    int_left    -- list of L (applied to site ndx) operators\n",
    "    int_right   -- list of R (applied to site ndx + 1) operators\n",
    "    local_term  -- operator acting on every site (optional)\n",
    "    \n",
    "    Returns:\n",
    "    H           -- ConstantNNHamiltonian\n",
    "    \"\"\"\n",
    "    if local_term is not None:\n",
    "        dimension = len(local_term)\n",
    "    else:\n",
    "        dimension = len(intL[0])\n",
    "    \n",
    "    H = ConstantNNHamiltonian(size, dimension)\n",
    "    H.local_term = local_term\n",
    "    H.intL = intL\n",
    "    H.intR = intR\n",
    "    for ndx in range(size-1):\n",
    "        for L,R in zip(H.intL, H.intR):\n",
    "            H.add_interaction_term(ndx, L, R)\n",
    "        if local_term is not None:\n",
    "            H.set_local_term(ndx, local_term)\n",
    "    return H"
   ]
  },
  {
   "cell_type": "markdown",
   "metadata": {},
   "source": [
    "## Suzuki-Trotter Decomposition"
   ]
  },
  {
   "cell_type": "markdown",
   "metadata": {},
   "source": [
    "In Suzuki-Trotter decomposition, the Hamiltonians of the nearest neighbor couplings can be decomposed into two non-commuting parts, $H_{\\text{odd}} $ and $ H_{\\text{even}} $, so that all additive 2-site operators in each part commute with each other.\n",
    "\n",
    "Let us consider a simple example of tight binding model with on-site potential and decompose the Hamiltonian into 2-site terms, so that $H=\\sum_i h_{i,i+1}$. \n",
    "\\begin{equation}\n",
    "h_{i,i+1} = \\left(\\frac{\\omega}{2}  a_i^\\dagger a_i \\right) + \\left(\\frac{\\omega}{2}  a_{i+1}^\\dagger a_{i+1} \\right) - \\left( t a_{i}^\\dagger a_{i+1} + \\text{h.c.} \\right).\n",
    "\\end{equation}\n",
    "Since $[h_{i,i+1},h_{i+2,i+3}] = 0$, we can group these terms for even and odd $i$, so that $H = H_{\\text{odd}} + H_{\\text{even}} $. \n",
    "\n",
    "Note that the local term $ a_i^\\dagger a_i$ appears only in one the groups for $i=1$ and $i=N$. Therefore we need to add two on-site terms $h_1 = \\left(\\frac{\\omega}{2}  a_1^\\dagger a_1 \\right) $ and $h_N = \\left(\\frac{\\omega}{2}  a_N^\\dagger a_N \\right) $, to the corresponding two-site terms. So that $h_{1,2} \\rightarrow h_{1,2} + h_1$, and $h_{N-1,N} \\rightarrow h_{N-1,N} + h_N$.\n",
    "\n",
    "And for the first order Suzuki-Trotter decomposition, the evolution operator becomes\n",
    "\\begin{equation}\n",
    "e^{-i \\hat{H} \\Delta t} = e^{-i \\hat{H}_{\\text{odd}} \\Delta t}  e^{-i \\hat{H}_{\\text{even}} \\Delta t} + O(\\Delta t^2).\n",
    "\\end{equation}"
   ]
  },
  {
   "cell_type": "markdown",
   "metadata": {},
   "source": [
    "`pairwise_unitaries` creates a list of Trotter unitarities corresponding to two-site operators, $U_{i,i+1} = e^{-i h_{i,i+1} \\Delta t}$. The Trotter unitarities associated with $\\hat{H}_{\\text{odd}}$ and $\\hat{H}_{\\text{even}}$ are applied separately in consecutive sweeps depending on evenodd value passed to TEBD_sweep class:\n",
    "$$ U = [U_{1,2}, U_{2,3}, U_{3,4}, \\dots ]. $$\n"
   ]
  },
  {
   "cell_type": "code",
   "execution_count": null,
   "metadata": {},
   "outputs": [],
   "source": [
    "# file: mps/evolution.py\n",
    "\n",
    "\n",
    "def pairwise_unitaries(H, δt):\n",
    "    return [scipy.linalg.expm((-1j * δt) * H.interaction_term(k)).\n",
    "                              reshape(H.dimension(k), H.dimension(k+1),\n",
    "                                      H.dimension(k), H.dimension(k+1))\n",
    "            for k in range(H.size-1)]"
   ]
  },
  {
   "cell_type": "markdown",
   "metadata": {},
   "source": [
    "We apply each $U_{i,i+1} = e^{-i h_{i,i+1} \\Delta t}$ to two neighbouring tensors, $A_i$ and $A_{i+1}$ simultaneously, as shown below."
   ]
  },
  {
   "cell_type": "markdown",
   "metadata": {},
   "source": [
    "<img src=\"fig_pdf/apply_mpo_to2site.svg\" style=\"max-width: 90%; width: 35em\">"
   ]
  },
  {
   "cell_type": "markdown",
   "metadata": {},
   "source": [
    "The resulting tensor $B$ is a two-site tensor. We split this tensor into two one-site tensors using left_orth_2site and right_orth_2site functions, which are defined in [this notebook](File%201c%20-%20Canonical%20form.ipynb). "
   ]
  },
  {
   "cell_type": "code",
   "execution_count": null,
   "metadata": {},
   "outputs": [],
   "source": [
    "# file: mps/evolution.py\n",
    "\n",
    "def apply_2siteTrotter(U, ψ, start):\n",
    "    return np.einsum('ijk,klm,prjl -> iprm', ψ[start], ψ[start+1], U)\n"
   ]
  },
  {
   "cell_type": "code",
   "execution_count": null,
   "metadata": {},
   "outputs": [],
   "source": [
    "# file: mps/evolution.py\n",
    "\n",
    "\n",
    "def TEBD_sweep(U, ψ, tol=DEFAULT_TOLERANCE):\n",
    "    #\n",
    "    # Apply a TEBD sweep by evolving with the pairwise Trotter Hamiltonian\n",
    "    # starting from left/rightmost site and moving on the 'direction' (>0 right,\n",
    "    # <0 left) by pairs of sites.\n",
    "    #\n",
    "    # - H: NNHamiltonian\n",
    "    # - ψ: Initial state in CanonicalMPS form (modified destructively)\n",
    "    # - δt: Time step\n",
    "    # - evenodd: 0, 1 depending on Trotter step\n",
    "    # - direction: where to move\n",
    "    #\n",
    "    if ψ.center <= 2:\n",
    "        dr = +1\n",
    "        if ψ.center == 0:\n",
    "            evenodd = 0\n",
    "        else:\n",
    "            evenodd = 1\n",
    "    else:\n",
    "        dr = -1\n",
    "        evenodd = ψ.size % 2\n",
    "        if ψ.center < ψ.size - 1:\n",
    "            evenodd = 1-evenodd\n",
    "\n",
    "    def update_two_site(start, nextsite, dr):\n",
    "        # Apply combined local and interaction exponential and move\n",
    "        if start == 0:\n",
    "            dr = +1\n",
    "        elif start == (ψ.size-2):\n",
    "            dr = -1\n",
    "        AA = apply_2siteTrotter(U[start], ψ, start)\n",
    "        ψ.update_canonical_2site(AA, start, nextsite, dr, tolerance=tol)\n",
    "        print('updating sites ({}, {}), center={}, direction={}'.format(\n",
    "            start, nextsite, ψ.center, dr))\n",
    "\n",
    "    #\n",
    "    # Loop over ψ, updating pairs of sites acting with the unitary operator\n",
    "    # made of the interaction and 0.5 times the local terms\n",
    "    #\n",
    "    if dr < 0:\n",
    "        if ψ.size % 2 == evenodd:\n",
    "            start = ψ.size - 1\n",
    "        else:\n",
    "            start = ψ.size - 2\n",
    "        #print('TEBD sweep with direction {} and start {}'.format(dr, start))\n",
    "        for j in range(start, 0, -2):\n",
    "            update_two_site(j-1, j, -1)\n",
    "    else:\n",
    "        start = 0 + evenodd\n",
    "        #print('TEBD sweep with direction {} and start {}'.format(dr, start))\n",
    "        for j in range(start, ψ.size-1, +2):\n",
    "            update_two_site(j, j+1, +1)\n",
    "\n",
    "    return ψ"
   ]
  },
  {
   "cell_type": "code",
   "execution_count": null,
   "metadata": {},
   "outputs": [],
   "source": [
    "# file: mps/evolution.py\n",
    "\n",
    "\n",
    "class TEBD_evolution(object):\n",
    "    def __init__(self, H, dt, timesteps=1, order=1, tol=DEFAULT_TOLERANCE):\n",
    "        self.H = H\n",
    "        self.dt = float(dt)\n",
    "        self.timesteps = timesteps\n",
    "        self.order = order\n",
    "        self.tolerance = tol\n",
    "        self.Udt = pairwise_unitaries(H, dt)\n",
    "        if order == 2:\n",
    "            self.Udt2 = pairwise_unitaries(H, dt/2)\n",
    "\n",
    "    def evolve(self, ψ):\n",
    "        if not isinstance(ψ, mps.state.CanonicalMPS):\n",
    "            evenodd = 0\n",
    "            dr = 1\n",
    "            ψ = mps.state.CanonicalMPS(ψ, center=0)\n",
    "        for i in range(self.timesteps):\n",
    "            if self.order == 1:\n",
    "                newψ = TEBD_sweep(self.Udt, ψ, tol=self.tolerance)\n",
    "                newψ = TEBD_sweep(self.Udt, newψ, tol=self.tolerance)\n",
    "            else:\n",
    "                newψ = TEBD_sweep(self.Udt2, ψ, tol=self.tolerance)\n",
    "                newψ = TEBD_sweep(self.Udt, newψ, tol=self.tolerance)\n",
    "                newψ = TEBD_sweep(self.Udt2, newψ, tol=self.tolerance)\n",
    "        return newψ"
   ]
  },
  {
   "cell_type": "markdown",
   "metadata": {},
   "source": [
    "## Error in Suzuki-Trotter decomposition"
   ]
  },
  {
   "cell_type": "markdown",
   "metadata": {},
   "source": [
    "In the first order Suzuki-Trotter decomposition, evolution operator becomes\n",
    "\\begin{equation}\n",
    "e^{-i \\hat{H} \\Delta t} = e^{-i \\hat{H}_{\\text{odd}} \\Delta t}  e^{-i \\hat{H}_{\\text{even}} \\Delta t} + O(\\Delta t^2).\n",
    "\\end{equation}\n",
    "Note that after $T/\\Delta t$ time steps, the accumulated error is in the order of $\\Delta t$.\n",
    "Higher order Suzuki-Trotter decompositions can be used to reduce error.\n",
    "\n",
    "\n"
   ]
  },
  {
   "cell_type": "markdown",
   "metadata": {},
   "source": [
    "# Tests"
   ]
  },
  {
   "cell_type": "code",
   "execution_count": null,
   "metadata": {},
   "outputs": [],
   "source": [
    "# file: mps/test/test_TEBD.py\n",
    "from mps.evolution import *\n"
   ]
  },
  {
   "cell_type": "code",
   "execution_count": null,
   "metadata": {},
   "outputs": [],
   "source": [
    "# file: mps/test/test_TEBD.py\n",
    "import unittest\n",
    "import mps.state\n",
    "import mps.tools\n",
    "from mps.test.tools import *\n",
    "import scipy.sparse as sp\n",
    "\n",
    "def random_wavefunction(n):\n",
    "    ψ = np.random.rand(n) - 0.5\n",
    "    return ψ / np.linalg.norm(ψ)\n",
    "\n",
    "class TestTEBD_sweep(unittest.TestCase):\n",
    "        \n",
    "    def test_TEBD_evolution_first_order(self):\n",
    "        #\n",
    "        #\n",
    "        #\n",
    "        N = 19\n",
    "        t = 0.1\n",
    "        ω = 0.5\n",
    "        dt = 1e-7\n",
    "        Nt = int(10000)\n",
    "        ψwave = random_wavefunction(N)\n",
    "        ψmps = CanonicalMPS(mps.state.wavepacket(ψwave))\n",
    "        # We use the tight-binding Hamiltonian\n",
    "        H=make_ti_Hamiltonian(N, [t * annihilation_op(2) , t * creation_op(2)], \n",
    "                            [creation_op(2), annihilation_op(2)], \n",
    "                              local_term=ω*creation_op(2)@ annihilation_op(2))\n",
    "        #for i in range(Nt):\n",
    "        #    \n",
    "        #    ψmps = TEBD_sweep(H, ψmps, dt, 1, 0, tol=DEFAULT_TOLERANCE)\n",
    "        #    ψmps = TEBD_sweep(H, ψmps, dt, -1, 1, tol=DEFAULT_TOLERANCE)\n",
    "        ψmps = TEBD_evolution(H, dt, timesteps=Nt, order=1, tol=DEFAULT_TOLERANCE).evolve(ψmps)\n",
    "        Hmat = sp.diags([[t]*(N), ω, [t]*(N)],\n",
    "                  offsets=[-1,0,+1],\n",
    "                  shape=(N,N),\n",
    "                  dtype=np.complex128)\n",
    "        \n",
    "        ψwave_final = sp.linalg.expm_multiply(-1j * dt*Nt * Hmat, ψwave)\n",
    "        \n",
    "        self.assertTrue(similar(abs(mps.state.wavepacket(ψwave_final).tovector()), \n",
    "                                abs(ψmps.tovector())))\n",
    "                \n",
    "\n",
    "    def test_TEBD_evolution_second_order(self):\n",
    "        #\n",
    "        #\n",
    "        #\n",
    "        N = 21\n",
    "        t = 0.1\n",
    "        ω = 0.5\n",
    "        dt = 1e-7\n",
    "        Nt = int(100)\n",
    "        ψwave = random_wavefunction(N)\n",
    "        ψmps = CanonicalMPS(mps.state.wavepacket(ψwave))\n",
    "        # We use the tight-binding Hamiltonian\n",
    "        H=make_ti_Hamiltonian(N, [t * annihilation_op(2) , t * creation_op(2)], \n",
    "                            [creation_op(2), annihilation_op(2)], \n",
    "                              local_term=ω*creation_op(2)@ annihilation_op(2))\n",
    "        #for i in range(Nt):\n",
    "        #    \n",
    "        #    ψmps = TEBD_sweep(H, ψmps, dt, 1, 0, tol=DEFAULT_TOLERANCE)\n",
    "        #    ψmps = TEBD_sweep(H, ψmps, dt, -1, 1, tol=DEFAULT_TOLERANCE)\n",
    "        ψmps = TEBD_evolution(H, dt, timesteps=Nt, order=2, tol=DEFAULT_TOLERANCE).evolve(ψmps)\n",
    "        Hmat = sp.diags([[t]*(N), ω, [t]*(N)],\n",
    "                  offsets=[-1,0,+1],\n",
    "                  shape=(N,N),\n",
    "                  dtype=np.complex128)\n",
    "        \n",
    "        ψwave_final = sp.linalg.expm_multiply(-1j * dt*Nt * Hmat, ψwave)\n",
    "        \n",
    "        self.assertTrue(similar(abs(mps.state.wavepacket(ψwave_final).tovector()), \n",
    "                                abs(ψmps.tovector())))\n",
    "                \n",
    "\n",
    "\n",
    "    "
   ]
  },
  {
   "cell_type": "code",
   "execution_count": null,
   "metadata": {},
   "outputs": [],
   "source": [
    "%autoreload\n",
    "suite1 = unittest.TestLoader().loadTestsFromNames(['__main__.TestTEBD_sweep'])\n",
    "unittest.TextTestRunner(verbosity=2).run(suite1);"
   ]
  },
  {
   "cell_type": "code",
   "execution_count": null,
   "metadata": {},
   "outputs": [],
   "source": []
  }
 ],
 "metadata": {
  "kernelspec": {
   "display_name": "Python 3",
   "language": "python",
   "name": "python3"
  },
  "language_info": {
   "codemirror_mode": {
    "name": "ipython",
    "version": 3
   },
   "file_extension": ".py",
   "mimetype": "text/x-python",
   "name": "python",
   "nbconvert_exporter": "python",
   "pygments_lexer": "ipython3"
  }
 },
 "nbformat": 4,
 "nbformat_minor": 2
}
