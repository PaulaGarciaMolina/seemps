{
 "cells": [
  {
   "cell_type": "code",
   "execution_count": 1,
   "metadata": {},
   "outputs": [],
   "source": [
    "%load_ext autoreload"
   ]
  },
  {
   "cell_type": "markdown",
   "metadata": {},
   "source": [
    "# Overlaps, Norms and Expectation values"
   ]
  },
  {
   "cell_type": "code",
   "execution_count": 2,
   "metadata": {},
   "outputs": [],
   "source": [
    "# file: mps/expectation.py\n",
    "\n",
    "import numpy as np\n",
    "import mps.state"
   ]
  },
  {
   "cell_type": "markdown",
   "metadata": {},
   "source": [
    "## Scalar products"
   ]
  },
  {
   "cell_type": "markdown",
   "metadata": {},
   "source": [
    "The computation of scalar products is the algorithm that underlies many other problems, such as approximating states, computing expectation values or minimizing energies. For instance, an expectation value $\\langle \\psi |O|\\psi\\rangle$ is tantamount to a scalar product between $|\\psi\\rangle$ and the vector $O|\\psi\\rangle.$ The distance between states, used in MPS simplification algorithms, is also a collection of scalar products $\\|\\psi-\\phi\\|^2 = \\langle\\psi|\\psi\\rangle + \\langle\\phi|\\phi\\rangle -2 \\mathrm{Re}\\langle\\psi|\\phi\\rangle$, etc."
   ]
  },
  {
   "cell_type": "markdown",
   "metadata": {},
   "source": [
    "The MPS have a simple structure where the scalar product becomes a simple graph that can be contracted with a cost $\\mathcal{O}(N)$ that is linear in the size of the state.\n",
    "\n",
    "<img src=\"figures/scalar-product.svg\" style=\"max-width:50%; width: 400px\">"
   ]
  },
  {
   "cell_type": "markdown",
   "metadata": {},
   "source": [
    "The computation proceeds by grouping tensors into a tensor that can be contracted with subsequent layers of tensors. For instance, in the example above we would start by grouping $A$ and $A^\\star$ into a single tensor $T_A$. Doing the same with the other tensors transforms the scalar product into a contraction of matrices\n",
    "\n",
    "$$| \\phi \\rangle = \\sum \\text{Tr} A^{i_1} C^{i_2} E^{i_3} G^{i_4} | i_1, i_2, i_3, i_4 \\rangle$$\n",
    "\n",
    "$$| \\psi \\rangle = \\sum \\text{Tr} B^{i_1} D^{i_2} F^{i_3} H^{i_4} | i_1, i_2, i_3, i_4 \\rangle$$\n",
    "\n",
    "$$\\langle\\psi|\\phi\\rangle = \\mathrm{Tr}(O_1 O_2 O_3 O_4)$$"
   ]
  },
  {
   "cell_type": "markdown",
   "metadata": {},
   "source": [
    "Graphically, this would be\n",
    "\n",
    "<img src=\"figures/scalar-product-phase1.svg\" style=\"max-width:50%; width:400px\">"
   ]
  },
  {
   "cell_type": "markdown",
   "metadata": {},
   "source": [
    "## Environments"
   ]
  },
  {
   "cell_type": "markdown",
   "metadata": {},
   "source": [
    "When we contract the $O_i$ tensors above to construct the scalar product, what we are doing is studying the overlap between the basis of states that we use to build our states $|\\psi\\rangle$ and $|\\phi\\rangle$ with 1, 2, 3 or four components."
   ]
  },
  {
   "cell_type": "markdown",
   "metadata": {},
   "source": [
    "For instance, $(O_1)_{\\beta,\\alpha}$ is the overlap between\n",
    "$$|\\psi_1(\\alpha)\\rangle = \\sum_{i_1} A^{i_1}_{1,\\alpha}|i_1\\rangle$$\n",
    "and the state\n",
    "$$|\\phi_1(\\beta)\\rangle = \\sum_{i_1} B^{i_1}_{1,\\beta}|i_1\\rangle,$$\n",
    "so that\n",
    "$$(O_1)_{\\beta,\\alpha} = \\langle \\phi_1(\\beta)|\\psi_1(\\alpha)\\rangle.$$"
   ]
  },
  {
   "cell_type": "markdown",
   "metadata": {},
   "source": [
    "Similarly, we can construct a new environment $(\\rho_2)_{\\delta,\\gamma}$ given by\n",
    "$$\\rho_2 = O_1 O_2$$\n",
    "or the scalar productthat\n",
    "$$(\\rho_2)_{\\gamma,\\delta} = \\langle \\phi_2(\\delta)|\\psi_2(\\gamma)\\rangle$$\n",
    "between the basis states\n",
    "$$|\\psi_2(\\gamma)\\rangle = \\sum_{i_1,i_2,\\alpha} A^{i_1}_{1,\\alpha} C^{i_1}_{\\alpha,\\gamma}|i_1,i_2\\rangle$$\n",
    "$$|\\phi_2(\\delta)\\rangle = \\sum_{i_1,i_2,\\alpha} B^{i_1}_{1,\\beta} D^{i_2}_{\\beta,\\delta}|i_1,i_2\\rangle.$$"
   ]
  },
  {
   "cell_type": "markdown",
   "metadata": {},
   "source": [
    "We will now implement two sets of functions that implement these environments, both from the left and from the right of the MPS."
   ]
  },
  {
   "cell_type": "markdown",
   "metadata": {},
   "source": [
    "### Left-to-right environments"
   ]
  },
  {
   "cell_type": "markdown",
   "metadata": {},
   "source": [
    "The following function takes tensors from the \"ket\" and the \"bra\" and extends a previously built environment. When we start creating environments, $\\rho_0 = []$ is the empty tensor. The sequence of contractions is shown below and is optimal in the number of operations.\n",
    "\n",
    "<img src=\"figures/left-to-right-contraction.svg\" style=\"max-width:90%; width: 600px\">"
   ]
  },
  {
   "cell_type": "code",
   "execution_count": 3,
   "metadata": {},
   "outputs": [],
   "source": [
    "# file: mps/expectation.py\n",
    "\n",
    "def begin_environment():\n",
    "    \"\"\"Initiate the computation of a left environment from two MPS.\"\"\"\n",
    "    return np.ones((1,1), dtype=np.float64)\n",
    "\n",
    "def close_environment(ρ):\n",
    "    \"\"\"Extract the scalar product from the last environment.\"\"\"\n",
    "    return ρ[0,0]\n",
    "\n",
    "def update_left_environment(B, A, rho, operator=None):\n",
    "    \"\"\"Extend the left environment with two new tensors, 'B' and 'A' coming\n",
    "    from the bra and ket of a scalar product. If an operator is provided, it\n",
    "    is contracted with the ket.\"\"\"\n",
    "    if operator is not None:\n",
    "        A = np.einsum(\"ji,aib->ajb\", operator, A)\n",
    "    rho = np.einsum(\"li,ijk->ljk\", rho, A)\n",
    "    return np.einsum(\"lmn,lmk->nk\", B.conj(), rho)"
   ]
  },
  {
   "cell_type": "markdown",
   "metadata": {},
   "source": [
    "### Right-to-left environment"
   ]
  },
  {
   "cell_type": "markdown",
   "metadata": {},
   "source": [
    "We have a similar procedure for right environments. These are used in various algorithms.\n",
    "\n",
    "<img src=\"figures/right-to-left-contraction.svg\" style=\"max-width:90%; width: 600px\">"
   ]
  },
  {
   "cell_type": "code",
   "execution_count": 4,
   "metadata": {},
   "outputs": [],
   "source": [
    "# file: mps/expectation.py\n",
    "\n",
    "def udpate_right_environment(B, A, rho, operator=None):\n",
    "    \"\"\"Extend the left environment with two new tensors, 'B' and 'A' coming\n",
    "    from the bra and ket of a scalar product. If an operator is provided, it\n",
    "    is contracted with the ket.\"\"\"\n",
    "    if operator is not None:\n",
    "        A = np.einsum(\"ji,aib->ajb\", operator, A)\n",
    "    rho = np.einsum(\"ijk,kn->ijn\", A, rho)\n",
    "    return np.einsum(\"imn,lmn->il\", rho, B)"
   ]
  },
  {
   "cell_type": "markdown",
   "metadata": {},
   "source": [
    "## Applications"
   ]
  },
  {
   "cell_type": "markdown",
   "metadata": {},
   "source": [
    "### Scalar product"
   ]
  },
  {
   "cell_type": "markdown",
   "metadata": {},
   "source": [
    "Using these functions, we can implement a scalar product. We initiate the left environment and then loop over sites, adding sites one at a time. "
   ]
  },
  {
   "cell_type": "code",
   "execution_count": 5,
   "metadata": {},
   "outputs": [],
   "source": [
    "# file: mps/expectation.py\n",
    "\n",
    "def scprod(ϕ, ψ):\n",
    "    \"\"\"Compute the scalar product between matrix product states <ϕ|ψ>.\"\"\"\n",
    "    rho = begin_environment()\n",
    "    for i in range(ψ.size):\n",
    "        rho = update_left_environment(ϕ[i], ψ[i], rho)\n",
    "    return close_environment(rho)"
   ]
  },
  {
   "cell_type": "markdown",
   "metadata": {},
   "source": [
    "The scalar product is used to define the norm of an MPS, $\\|\\psi\\|^2=\\langle\\psi|\\psi\\rangle.$"
   ]
  },
  {
   "cell_type": "markdown",
   "metadata": {},
   "source": [
    "### Single-site expectation value"
   ]
  },
  {
   "cell_type": "markdown",
   "metadata": {},
   "source": [
    "The expectation value of an operator acting on a single site is obtained by constructing environments and only changing one of the kets to include the contraction with the observable."
   ]
  },
  {
   "cell_type": "code",
   "execution_count": 6,
   "metadata": {},
   "outputs": [],
   "source": [
    "# file: mps/expectation.py\n",
    "\n",
    "def expectation1_non_canonical(ψ, O, site):\n",
    "    \"\"\"Compute the expectation value <ψ|O|ψ> of an operator O acting on 'site'\"\"\"\n",
    "    ρL = begin_environment()\n",
    "    for i in range(0, ψ.size):\n",
    "        A = ψ[i]\n",
    "        if i == site:\n",
    "            OL = update_left_environment(A, A, ρL, operator=O)\n",
    "        elif i > site:\n",
    "            OL = update_left_environment(A, A, OL)\n",
    "        ρL = update_left_environment(A, A, ρL)\n",
    "    return close_environment(OL)/close_environment(ρL)"
   ]
  },
  {
   "cell_type": "markdown",
   "metadata": {},
   "source": [
    "### Multiple single-site expectation values"
   ]
  },
  {
   "cell_type": "markdown",
   "metadata": {},
   "source": [
    "Quite often we need to compute multiple expectation values, one acting on each site. This is the case, for instance, when we want to study the density of particles on a lattice, given by $n_i =\\langle a^\\dagger_i a_i\\rangle,$ or the polarization of a quantum ferromagnet.\n",
    "\n",
    "The following function implements this, by computing\n",
    "$$\\{\\langle \\psi | O_i |\\psi\\rangle\\}_{i=1}^{N},$$\n",
    "where the $i$-th operator acts on the $i$-th site. The function takes an argument that may be a list of operators $[O_1,O_2,\\ldots,O_N],$ or just one operator that is repeated over all sites. The function has more than 50% reduction in time costs with respect to calling `expectation1_non_nanonical()` again and again, due to reusing precomputed left-environments."
   ]
  },
  {
   "cell_type": "code",
   "execution_count": 7,
   "metadata": {},
   "outputs": [],
   "source": [
    "# file: mps/expectation.py\n",
    "\n",
    "def get_operator(O, i):\n",
    "    #\n",
    "    # This utility function is used to guess the operator acting on site 'i'\n",
    "    # If O is a list, it corresponds to the 'i'-th element. Otherwise, we\n",
    "    # use operator 'O' everywhere.\n",
    "    #\n",
    "    if type(O) == list:\n",
    "        return O[i]\n",
    "    else:\n",
    "        return O"
   ]
  },
  {
   "cell_type": "code",
   "execution_count": 8,
   "metadata": {},
   "outputs": [],
   "source": [
    "# file: mps/expectation.py\n",
    "\n",
    "def all_expectation1_non_canonical(ψ, O, tol=0):\n",
    "    \"\"\"Return all expectation values of operator O acting on ψ. If O is a list\n",
    "    of operators, a different one is used for each site.\"\"\"\n",
    "    \n",
    "    Oenv = []\n",
    "    ρL = begin_environment()\n",
    "    for i in range(ψ.size):\n",
    "        A = ψ[i]\n",
    "        Oenv = [update_left_environment(A, A, ρO) for ρO in Oenv] + \\\n",
    "               [update_left_environment(A, A, ρ, operator=get_operator(O,i))]\n",
    "        ρL = update_left_environment(A, A, ρ)\n",
    "    return np.array(map(end_environment, Oenv))/end_environment(ρL)"
   ]
  },
  {
   "cell_type": "markdown",
   "metadata": {},
   "source": [
    "### Expectation of a product of operators"
   ]
  },
  {
   "cell_type": "markdown",
   "metadata": {},
   "source": [
    "The following function computes the expectation value of a product of operators, combining all the methods above:\n",
    "$$\\langle \\psi | O_1 \\otimes O_2 \\otimes \\cdots \\otimes O_N |\\psi\\rangle$$\n",
    "We pass the operators in a list $[O_1, O_2,\\ldots, O_N].$"
   ]
  },
  {
   "cell_type": "code",
   "execution_count": 9,
   "metadata": {},
   "outputs": [],
   "source": [
    "# file: mps/expectation.py\n",
    "\n",
    "def product_expectation(ψ, operator_list):\n",
    "    rho = begin_environment(ρ)\n",
    "    \n",
    "    for i in range(ψ.size):\n",
    "        rho = update_left_environment(ψ[i].conj(), ψ[i], rho, operator = operator_list[i])\n",
    "    \n",
    "    return close_environment(ρ)"
   ]
  },
  {
   "cell_type": "markdown",
   "metadata": {},
   "source": [
    "-----"
   ]
  },
  {
   "cell_type": "markdown",
   "metadata": {},
   "source": [
    "# Tests"
   ]
  },
  {
   "cell_type": "code",
   "execution_count": 14,
   "metadata": {},
   "outputs": [],
   "source": [
    "# file: mps/test/test_expectation.py\n",
    "\n",
    "import unittest\n",
    "import mps.state\n",
    "from mps.expectation import *\n",
    "\n",
    "def bit2state(b):\n",
    "    if b:\n",
    "        return [0,1]\n",
    "    else:\n",
    "        return [1,0]\n",
    "\n",
    "class TestExpectation(unittest.TestCase):\n",
    "    \n",
    "    def test_scprod_basis(self):\n",
    "        #\n",
    "        # Test that scprod() can be used to project onto basis states\n",
    "        for nbits in range(1,8):\n",
    "            # We create a random MPS\n",
    "            ψmps = mps.state.random(2, nbits, 2)\n",
    "            ψwave = ψmps.tovector()\n",
    "            \n",
    "            # We then create the basis of all states with well defined\n",
    "            # values of the qubits\n",
    "            conf = np.arange(0, 2**nbits, dtype=np.uint8)\n",
    "            conf = np.reshape(conf, (2**nbits, 1))\n",
    "            conf = np.unpackbits(conf, axis=1)\n",
    "            \n",
    "            # Finally, we loop over the basis states, verifying that the\n",
    "            # scalar product is the projection onto the state\n",
    "            for (n, bits) in enumerate(conf):\n",
    "                proj = ψwave[n]\n",
    "                ϕmps = mps.state.product(map(bit2state, bits[-nbits:]))\n",
    "                self.assertEqual(proj, scprod(ϕmps, ψmps))\n",
    "\n",
    "    def test_norm_random(self):\n",
    "        #\n",
    "        # Test the norm on our sample states\n",
    "        for nbits in range(1, 8):\n",
    "            self.assertAlmostEqual(mps.state.GHZ(nbits).norm2(),\n",
    "                                   1.0, places=10)\n",
    "            self.assertAlmostEqual(mps.state.W(nbits).norm2(),\n",
    "                                   1.0, places=10)\n",
    "            self.assertAlmostEqual(mps.state.graph(nbits).norm2(),\n",
    "                                   1.0, places=10)\n",
    "            self.assertAlmostEqual(mps.state.AKLT(nbits).norm2(),\n",
    "                                   1.0, places=10)\n",
    "        \n",
    "        # Test that the norm works on random states\n",
    "        for nbits in range(1,8):\n",
    "            for _ in range(10):\n",
    "                # We create a random MPS\n",
    "                ψmps = mps.state.random(2, nbits, 2)\n",
    "                ψwave = ψmps.tovector()\n",
    "                self.assertAlmostEqual(ψmps.norm2(), np.vdot(ψwave,ψwave))\n",
    "    \n",
    "    def test_expected1_density(self):\n",
    "        def random_wavefunction(n):\n",
    "            ψ = np.random.rand(n) - 0.5\n",
    "            return ψ / np.linalg.norm(ψ)\n",
    "        \n",
    "        O = np.array([[0,0],[0,1]])\n",
    "        \n",
    "        for nbits in range(1,8):\n",
    "            ψGHZ = mps.state.GHZ(nbits)\n",
    "            ψW = mps.state.W(nbits)\n",
    "            for i in range(nbits):\n",
    "                self.assertAlmostEqual(ψGHZ.expectation1(O,i), 0.5)\n",
    "                self.assertAlmostEqual(ψW.expectation1(O,i), 1/nbits)\n",
    "\n",
    "        #\n",
    "        # When we create a spin wave, 'O' detects the density of the\n",
    "        # wave with the right magnitude\n",
    "        for nbits in range(2,8):\n",
    "            for _ in range(10):\n",
    "                # We create a random MPS\n",
    "                ψwave = random_wavefunction(nbits)\n",
    "                ψmps = mps.state.wavepacket(ψwave)\n",
    "                for i in range(nbits):\n",
    "                    si = expectation1_non_canonical(ψmps, O, i)\n",
    "                    self.assertAlmostEqual(si, ψwave[i]**2)\n",
    "                    xi = ψmps.expectation1(O, i)\n",
    "                    self.assertEqual(si, xi)"
   ]
  },
  {
   "cell_type": "code",
   "execution_count": 15,
   "metadata": {
    "scrolled": true
   },
   "outputs": [
    {
     "name": "stderr",
     "output_type": "stream",
     "text": [
      "test_expected1_density (__main__.TestExpectation) ... ok\n",
      "test_norm_random (__main__.TestExpectation) ... ok\n",
      "test_scprod_basis (__main__.TestExpectation) ... ok\n",
      "\n",
      "----------------------------------------------------------------------\n",
      "Ran 3 tests in 0.117s\n",
      "\n",
      "OK\n"
     ]
    }
   ],
   "source": [
    "%autoreload\n",
    "suite1 = unittest.TestLoader().loadTestsFromNames(['__main__.TestExpectation'])\n",
    "unittest.TextTestRunner(verbosity=2).run(suite1);"
   ]
  }
 ],
 "metadata": {
  "kernelspec": {
   "display_name": "Python 3",
   "language": "python",
   "name": "python3"
  },
  "language_info": {
   "codemirror_mode": {
    "name": "ipython",
    "version": 3
   },
   "file_extension": ".py",
   "mimetype": "text/x-python",
   "name": "python",
   "nbconvert_exporter": "python",
   "pygments_lexer": "ipython3",
   "version": "3.6.6"
  }
 },
 "nbformat": 4,
 "nbformat_minor": 2
}
