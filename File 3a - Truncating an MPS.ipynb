{
 "cells": [
  {
   "cell_type": "markdown",
   "metadata": {},
   "source": [
    "# MPS Simplification"
   ]
  },
  {
   "cell_type": "markdown",
   "metadata": {},
   "source": [
    "## Algorithm"
   ]
  },
  {
   "cell_type": "markdown",
   "metadata": {},
   "source": [
    "The \"simplification\" algorithm consists on approximating a quantum state $|\\Psi\\rangle,$ encoded in a large bond dimension MPS, using an MPS with a smaller bond dimension fixed bond dimension $\\xi$, $|\\phi\\rangle\\in\\mathrm{MPS}_\\xi$. We work by minimizing the distance between both states\n",
    "$$\\phi = \\mathrm{argmin}_{\\phi\\in \\mathrm{MPS}_\\xi} d(\\Psi,\\phi).$$"
   ]
  },
  {
   "cell_type": "markdown",
   "metadata": {},
   "source": [
    "The algorithm uses this distance expressed as a sum of scalar products\n",
    "$$d(\\Psi,\\phi) = \\|\\Psi-\\phi\\|^2 = \\langle\\Psi|\\Psi\\rangle + \\langle\\phi|\\phi\\rangle - \\langle\\Psi|\\phi\\rangle - \\langle\\phi|\\Psi\\rangle$$"
   ]
  },
  {
   "cell_type": "markdown",
   "metadata": {},
   "source": [
    "Given the structure of scalar products we see that the distance is a bilinear function with respect to any of the tensors in $|\\phi\\rangle.$ Take for instance an MPS with four sites and let us focus on the second site. The scalar product between $\\Psi$ and $\\phi$ can be written as the contraction between two environments and two tensors from each state\n",
    "<img src=\"figures/scalar-product-with-environments.svg\" style=\"max-width:55%; width:450px\">\n",
    "\n",
    "If $|\\phi\\rangle$ is in canonical form with respect to that site., its norm can be written directly as the contraction of the same tensor and its complex conjugate.\n",
    "<img src=\"figures/scalar-product-canonical.svg\" style=\"max-width:50%; width:450px\">"
   ]
  },
  {
   "cell_type": "markdown",
   "metadata": {},
   "source": [
    "This structure allows us to write the condition for optimality with respect to a site\n",
    "$$\\frac{\\partial}{\\partial D^{i}_{\\alpha\\beta}} d(\\Psi,\\phi) = 0$$\n",
    "as a linear equation with respect to the tensor\n",
    "$$U^{i}_{\\alpha\\beta} - D^{i}_{\\alpha\\beta} = 0$$\n",
    "with the elements\n",
    "$$\\frac{\\partial}{\\partial D^{i *}_{\\alpha\\beta}} \\langle\\Psi|\\phi\\rangle = U^{i}_{\\alpha\\beta}$$\n",
    "and\n",
    "$$\\frac{\\partial}{\\partial D^{i *}_{\\alpha\\beta}} \\langle\\phi|\\phi\\rangle = D^{i}_{\\alpha\\beta}$$"
   ]
  },
  {
   "cell_type": "markdown",
   "metadata": {},
   "source": [
    "This algorithm has a drawback: we need to know the size of the tensors in advance. An useful variant is to optimize with respect to two sites, for instance $D$ and $F$ simultaneously, combining them in a single tensor that satisfies a similar equation. This tensor is then split optimally, distributing the entanglement with the maximum bond dimension that is allowed.\n",
    "\n",
    "<img src=\"figures/two-site-optimization.svg\" style=\"max-width:50%; width: 400px\">"
   ]
  },
  {
   "cell_type": "code",
   "execution_count": null,
   "metadata": {},
   "outputs": [],
   "source": []
  }
 ],
 "metadata": {
  "kernelspec": {
   "display_name": "Python 3",
   "language": "python",
   "name": "python3"
  },
  "language_info": {
   "codemirror_mode": {
    "name": "ipython",
    "version": 3
   },
   "file_extension": ".py",
   "mimetype": "text/x-python",
   "name": "python",
   "nbconvert_exporter": "python",
   "pygments_lexer": "ipython3",
   "version": "3.7.2"
  }
 },
 "nbformat": 4,
 "nbformat_minor": 2
}
