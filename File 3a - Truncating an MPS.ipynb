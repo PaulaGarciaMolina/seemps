{
 "cells": [
  {
   "cell_type": "markdown",
   "metadata": {},
   "source": [
    "# MPS Simplification"
   ]
  },
  {
   "cell_type": "markdown",
   "metadata": {},
   "source": [
    "## Algorithm"
   ]
  },
  {
   "cell_type": "markdown",
   "metadata": {},
   "source": [
    "The \"simplification\" algorithm consists on approximating a quantum state $|\\Psi\\rangle,$ encoded in a large bond dimension MPS, using an MPS with a smaller bond dimension fixed bond dimension $\\xi$, $|\\phi\\rangle\\in\\mathrm{MPS}_\\xi$. We work by minimizing the distance between both states\n",
    "$$\\phi = \\mathrm{argmin}_{\\phi\\in \\mathrm{MPS}_\\xi} d(\\Psi,\\phi).$$"
   ]
  },
  {
   "cell_type": "markdown",
   "metadata": {},
   "source": [
    "The algorithm uses this distance expressed as a sum of scalar products\n",
    "$$d(\\Psi,\\phi) = \\|\\Psi-\\phi\\|^2 = \\langle\\Psi|\\Psi\\rangle + \\langle\\phi|\\phi\\rangle - \\langle\\Psi|\\phi\\rangle - \\langle\\phi|\\Psi\\rangle$$"
   ]
  },
  {
   "cell_type": "markdown",
   "metadata": {},
   "source": [
    "Given the structure of scalar products we see that the distance is a bilinear function with respect to any of the tensors in $|\\phi\\rangle.$ Take for instance an MPS with four sites and let us focus on the second site. The scalar product between $\\Psi$ and $\\phi$ can be written as the contraction between two environments and two tensors from each state\n",
    "\n",
    "<img src=\"figures/scalar-product-with-environments.svg\" style=\"max-width:90%; width:30em\">"
   ]
  },
  {
   "cell_type": "markdown",
   "metadata": {},
   "source": [
    "As explained in [this notebook](File%201c%20-%20Canonical%20form.ipynb), if $|\\phi\\rangle$ is in canonical form with respect to that site., its norm can be written directly as the contraction of the same tensor and its complex conjugate.\n",
    "\n",
    "<img src=\"figures/scalar-product-canonical.svg\" style=\"max-width:90%; width:30em\">"
   ]
  },
  {
   "cell_type": "markdown",
   "metadata": {},
   "source": [
    "This structure allows us to write the condition for optimality with respect to a site\n",
    "$$\\frac{\\partial}{\\partial D^{i}_{\\alpha\\beta}} d(\\Psi,\\phi) = 0$$\n",
    "as a linear equation with respect to the tensor\n",
    "$$U^{i}_{\\alpha\\beta} - D^{i}_{\\alpha\\beta} = 0$$\n",
    "with the elements\n",
    "$$\\frac{\\partial}{\\partial D^{i *}_{\\alpha\\beta}} \\langle\\Psi|\\phi\\rangle = U^{i}_{\\alpha\\beta}$$\n",
    "and\n",
    "$$\\frac{\\partial}{\\partial D^{i *}_{\\alpha\\beta}} \\langle\\phi|\\phi\\rangle = D^{i}_{\\alpha\\beta}$$"
   ]
  },
  {
   "cell_type": "markdown",
   "metadata": {},
   "source": [
    "The algorithm in this form has a drawback: *we need to know the size of the tensors* in advance. An useful variant is to optimize with respect to two sites, for instance $D$ and $F$ simultaneously, combining them in a single tensor that satisfies a similar equation. The two-site tensor is then split optimally, distributing the entanglement according to the maximum bond dimension that is allowed.\n",
    "\n",
    "<img src=\"figures/two-site-optimization.svg\" style=\"max-width:70%; width: 70em\">"
   ]
  },
  {
   "cell_type": "markdown",
   "metadata": {},
   "source": [
    "## Implementation"
   ]
  },
  {
   "cell_type": "markdown",
   "metadata": {},
   "source": [
    "The code is very simple, but it becomes more so if we abstract out the environment part into a single object, a linear form\n",
    "$$L(|\\phi\\rangle) := \\langle\\psi|\\phi\\rangle,$$\n",
    "and we instruct this object to return the local terms $L$, $C$ and $R$ with respect to the current site."
   ]
  },
  {
   "cell_type": "code",
   "execution_count": null,
   "metadata": {},
   "outputs": [],
   "source": [
    "# file: mps/truncate.py\n",
    "\n",
    "import numpy as np\n",
    "from mps.state import *\n",
    "\n",
    "from mps.expectation import \\\n",
    "    begin_environment, \\\n",
    "    update_right_environment, \\\n",
    "    update_left_environment\n",
    "\n",
    "class LinearForm(object):\n",
    "    #\n",
    "    # This class is an object that formally implements <ψ|ϕ> with an argument\n",
    "    # ϕ that may change and be updated over time.\n",
    "    #\n",
    "    # Given a site 'n' it returns the tensor 'L' such that the contraction\n",
    "    # between 'L' and ϕ[n] is the result of the linear form.\"\"\"\n",
    "    #\n",
    "    def __init__(self, ψ, ϕ, center=0):\n",
    "        #\n",
    "        # At the beginning, we create the right- and left- environments for\n",
    "        # all sites to the left and to the right of 'center', which is the\n",
    "        # focus point of 'LinearForm'.\n",
    "        #\n",
    "        ρ = begin_environment()\n",
    "        self.R = [ρ] * ψ.size\n",
    "        for i in range(ψ.size-2, center-1, -1):\n",
    "            self.R[i] = ρ = update_right_environment(ψ[i+1], ϕ[i+1], ρ)\n",
    "\n",
    "        ρ = begin_environment()\n",
    "        self.L = [ρ] * ψ.size        \n",
    "        for i in range(1, center+1):\n",
    "            self.L[i] = ρ = update_left_environment(ψ[i-1], ϕ[i-1], ρ)\n",
    "\n",
    "        self.ψ = ψ\n",
    "        self.ϕ = ϕ\n",
    "        self.center = center\n",
    "\n",
    "    def tensor(self):\n",
    "        #\n",
    "        # Return the tensor that represents the LinearForm at the 'center'\n",
    "        # site of the MPS\n",
    "        #\n",
    "        center = self.center\n",
    "        L = self.L[center]\n",
    "        R = self.R[center]\n",
    "        C = self.ψ[center].conj()\n",
    "        \n",
    "        return np.einsum('nk,njl,il->kji', L, C, R)\n",
    "\n",
    "    def update(self, direction):\n",
    "        #\n",
    "        # We have updated 'ϕ', which is now centered on a different point.\n",
    "        # We have to recompute the environments.\n",
    "        #\n",
    "        center = self.center\n",
    "        if direction > 0:\n",
    "            L = self.L[center]\n",
    "            if center+1 < ψ.size:\n",
    "                L = update_left_environment(ψ[center], ϕ[center], L)\n",
    "                self.L[center+1] = L\n",
    "                self.center = center+1\n",
    "        else:\n",
    "            R = self.R[center]\n",
    "            if center > 0:\n",
    "                R = update_right_environment(ψ[center], ϕ[center], L)\n",
    "                self.R[center-1] = R\n",
    "                self.center = center-1"
   ]
  },
  {
   "cell_type": "code",
   "execution_count": null,
   "metadata": {},
   "outputs": [],
   "source": [
    "# file: mps/truncate.py\n",
    "\n",
    "def simplify_mps_1site(ψ, dimension=0, sweeps=2, tolerance=DEFAULT_TOLERANCE):\n",
    "    \"\"\"Simplify an MPS ψ transforming it into another one with a smaller bond\n",
    "    dimension, sweeping until convergence is achieved.\n",
    "    \n",
    "    Arguments:\n",
    "    ----------\n",
    "    sweeps = maximum number of sweeps to run\n",
    "    tolerance = relative tolerance when splitting the tensors\n",
    "    dimension = maximum bond dimension, 0 to just truncate to tolerance\n",
    "    \"\"\"\n",
    "    \n",
    "    if dimension == 0:\n",
    "        return CanonicalMPS(ψ, center=0, tolerance=tolerance)"
   ]
  },
  {
   "cell_type": "markdown",
   "metadata": {},
   "source": [
    "---"
   ]
  },
  {
   "cell_type": "markdown",
   "metadata": {},
   "source": [
    "# Tests"
   ]
  },
  {
   "cell_type": "code",
   "execution_count": null,
   "metadata": {},
   "outputs": [],
   "source": [
    "# file: mps/test/test_truncate.py\n",
    "\n",
    "import unittest\n",
    "from mps.test.tools import *\n",
    "\n",
    "class TestLinearForm(unittest.TestCase):\n",
    "    \n",
    "    def test_canonical_env(self):\n",
    "        #\n",
    "        # When we pass two identical canonical form MPS to LinearForm, the\n",
    "        # left and right environments are the identity\n",
    "        #\n",
    "        def ok(ψ):\n",
    "            for center in range(ψ.size):\n",
    "                ϕ = CanonicalMPS(ψ, center)\n",
    "                LF = LinearForm(ϕ, ϕ, center)\n",
    "                self.assertTrue(almostIdentity(LF.L[center],+1))\n",
    "                self.assertTrue(almostIdentity(LF.R[center],+1))\n",
    "        \n",
    "        test_over_random_mps(ok)\n",
    "    \n",
    "    def test_tensor(self):\n",
    "        #\n",
    "        # Use ψ and ϕ=O*ψ, where O is a local operator, to verify that the\n",
    "        # LinearForm of ψ and ϕ returns <ψ|O|ψ>\n",
    "        #\n",
    "        def ok(ψ):\n",
    "            O = np.array([[1,-3],[2,-4]])\n",
    "            for i in range(ψ.size):\n",
    "                Omean = ψ.expectation1(O, i)\n",
    "                ϕ = ψ.copy()\n",
    "                ϕ[i] = np.einsum('ij,ajb->aib', O, ϕ[i])\n",
    "                for center in range(ϕ.size):\n",
    "                    LF = LinearForm(ψ, ϕ, center)\n",
    "                    L = LF.tensor()\n",
    "                    A = ϕ[center]\n",
    "                    Odesired = np.einsum('aib,aib', L, A)\n",
    "                    print((Omean, Odesired))\n",
    "                    self.assertTrue(almostIdentity(LF.L[center],+1))\n",
    "                    self.assertTrue(almostIdentity(LF.R[center],+1))\n",
    "        \n",
    "        test_over_random_mps(ok)"
   ]
  },
  {
   "cell_type": "code",
   "execution_count": null,
   "metadata": {
    "scrolled": true
   },
   "outputs": [],
   "source": [
    "suite1 = unittest.TestLoader().loadTestsFromNames(['__main__.TestLinearForm'])\n",
    "unittest.TextTestRunner(verbosity=2).run(suite1);"
   ]
  },
  {
   "cell_type": "code",
   "execution_count": null,
   "metadata": {
    "scrolled": true
   },
   "outputs": [],
   "source": [
    "mps.test.tools.__dict__.keys()"
   ]
  },
  {
   "cell_type": "code",
   "execution_count": null,
   "metadata": {},
   "outputs": [],
   "source": []
  }
 ],
 "metadata": {
  "kernelspec": {
   "display_name": "Python 3",
   "language": "python",
   "name": "python3"
  },
  "language_info": {
   "codemirror_mode": {
    "name": "ipython",
    "version": 3
   },
   "file_extension": ".py",
   "mimetype": "text/x-python",
   "name": "python",
   "nbconvert_exporter": "python",
   "pygments_lexer": "ipython3",
   "version": "3.7.1"
  }
 },
 "nbformat": 4,
 "nbformat_minor": 2
}
